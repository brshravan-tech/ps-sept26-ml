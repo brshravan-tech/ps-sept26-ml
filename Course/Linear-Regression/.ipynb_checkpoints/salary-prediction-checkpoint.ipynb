{
 "cells": [
  {
   "cell_type": "code",
   "execution_count": 1,
   "metadata": {},
   "outputs": [],
   "source": [
    "%matplotlib inline\n",
    "import numpy as np\n",
    "import pandas as pd\n",
    "import matplotlib.pyplot as plt"
   ]
  },
  {
   "cell_type": "code",
   "execution_count": 3,
   "metadata": {},
   "outputs": [
    {
     "data": {
      "text/html": [
       "<div>\n",
       "<style scoped>\n",
       "    .dataframe tbody tr th:only-of-type {\n",
       "        vertical-align: middle;\n",
       "    }\n",
       "\n",
       "    .dataframe tbody tr th {\n",
       "        vertical-align: top;\n",
       "    }\n",
       "\n",
       "    .dataframe thead th {\n",
       "        text-align: right;\n",
       "    }\n",
       "</style>\n",
       "<table border=\"1\" class=\"dataframe\">\n",
       "  <thead>\n",
       "    <tr style=\"text-align: right;\">\n",
       "      <th></th>\n",
       "      <th>YearsExperience</th>\n",
       "      <th>Salary</th>\n",
       "    </tr>\n",
       "  </thead>\n",
       "  <tbody>\n",
       "    <tr>\n",
       "      <th>count</th>\n",
       "      <td>30.000000</td>\n",
       "      <td>30.000000</td>\n",
       "    </tr>\n",
       "    <tr>\n",
       "      <th>mean</th>\n",
       "      <td>5.313333</td>\n",
       "      <td>76003.000000</td>\n",
       "    </tr>\n",
       "    <tr>\n",
       "      <th>std</th>\n",
       "      <td>2.837888</td>\n",
       "      <td>27414.429785</td>\n",
       "    </tr>\n",
       "    <tr>\n",
       "      <th>min</th>\n",
       "      <td>1.100000</td>\n",
       "      <td>37731.000000</td>\n",
       "    </tr>\n",
       "    <tr>\n",
       "      <th>25%</th>\n",
       "      <td>3.200000</td>\n",
       "      <td>56720.750000</td>\n",
       "    </tr>\n",
       "    <tr>\n",
       "      <th>50%</th>\n",
       "      <td>4.700000</td>\n",
       "      <td>65237.000000</td>\n",
       "    </tr>\n",
       "    <tr>\n",
       "      <th>75%</th>\n",
       "      <td>7.700000</td>\n",
       "      <td>100544.750000</td>\n",
       "    </tr>\n",
       "    <tr>\n",
       "      <th>max</th>\n",
       "      <td>10.500000</td>\n",
       "      <td>122391.000000</td>\n",
       "    </tr>\n",
       "  </tbody>\n",
       "</table>\n",
       "</div>"
      ],
      "text/plain": [
       "       YearsExperience         Salary\n",
       "count        30.000000      30.000000\n",
       "mean          5.313333   76003.000000\n",
       "std           2.837888   27414.429785\n",
       "min           1.100000   37731.000000\n",
       "25%           3.200000   56720.750000\n",
       "50%           4.700000   65237.000000\n",
       "75%           7.700000  100544.750000\n",
       "max          10.500000  122391.000000"
      ]
     },
     "execution_count": 3,
     "metadata": {},
     "output_type": "execute_result"
    }
   ],
   "source": [
    "df=pd.read_csv('Salary_Data.csv')\n",
    "df.describe()"
   ]
  },
  {
   "cell_type": "code",
   "execution_count": 5,
   "metadata": {},
   "outputs": [
    {
     "name": "stdout",
     "output_type": "stream",
     "text": [
      "<class 'pandas.core.frame.DataFrame'>\n",
      "RangeIndex: 30 entries, 0 to 29\n",
      "Data columns (total 2 columns):\n",
      "YearsExperience    30 non-null float64\n",
      "Salary             30 non-null float64\n",
      "dtypes: float64(2)\n",
      "memory usage: 560.0 bytes\n"
     ]
    }
   ],
   "source": [
    "df.info()"
   ]
  },
  {
   "cell_type": "markdown",
   "metadata": {},
   "source": [
    "- Given number of years of experience, predict salary"
   ]
  },
  {
   "cell_type": "code",
   "execution_count": 7,
   "metadata": {},
   "outputs": [
    {
     "data": {
      "text/plain": [
       "<matplotlib.collections.PathCollection at 0x1100c9e80>"
      ]
     },
     "execution_count": 7,
     "metadata": {},
     "output_type": "execute_result"
    },
    {
     "data": {
      "image/png": "[encoded data removed]",
      "text/plain": [
       "<Figure size 432x288 with 1 Axes>"
      ]
     },
     "metadata": {},
     "output_type": "display_data"
    }
   ],
   "source": [
    "plt.scatter(df['YearsExperience'],df['Salary'])"
   ]
  },
  {
   "cell_type": "code",
   "execution_count": 10,
   "metadata": {},
   "outputs": [
    {
     "data": {
      "text/plain": [
       "(array([3., 1., 1., 1., 3., 2., 3., 1., 3., 0., 2., 0., 2., 0., 1., 1., 2.,\n",
       "        1., 1., 2.]),\n",
       " array([ 1.1 ,  1.57,  2.04,  2.51,  2.98,  3.45,  3.92,  4.39,  4.86,\n",
       "         5.33,  5.8 ,  6.27,  6.74,  7.21,  7.68,  8.15,  8.62,  9.09,\n",
       "         9.56, 10.03, 10.5 ]),\n",
       " <a list of 20 Patch objects>)"
      ]
     },
     "execution_count": 10,
     "metadata": {},
     "output_type": "execute_result"
    },
    {
     "data": {
      "image/png": "[encoded data removed]",
      "text/plain": [
       "<Figure size 432x288 with 1 Axes>"
      ]
     },
     "metadata": {},
     "output_type": "display_data"
    }
   ],
   "source": [
    "plt.hist(df['YearsExperience'], bins=20)"
   ]
  },
  {
   "cell_type": "code",
   "execution_count": 11,
   "metadata": {},
   "outputs": [
    {
     "data": {
      "text/plain": [
       "(array([3., 1., 1., 1., 5., 2., 3., 1., 0., 0., 2., 0., 1., 1., 1., 1., 2.,\n",
       "        2., 1., 2.]),\n",
       " array([ 37731.,  41964.,  46197.,  50430.,  54663.,  58896.,  63129.,\n",
       "         67362.,  71595.,  75828.,  80061.,  84294.,  88527.,  92760.,\n",
       "         96993., 101226., 105459., 109692., 113925., 118158., 122391.]),\n",
       " <a list of 20 Patch objects>)"
      ]
     },
     "execution_count": 11,
     "metadata": {},
     "output_type": "execute_result"
    },
    {
     "data": {
      "image/png": "[encoded data removed]",
      "text/plain": [
       "<Figure size 432x288 with 1 Axes>"
      ]
     },
     "metadata": {},
     "output_type": "display_data"
    }
   ],
   "source": [
    "plt.hist(df['Salary'], bins=20)"
   ]
  },
  {
   "cell_type": "code",
   "execution_count": 12,
   "metadata": {},
   "outputs": [],
   "source": [
    "from sklearn.model_selection import train_test_split"
   ]
  },
  {
   "cell_type": "code",
   "execution_count": 16,
   "metadata": {},
   "outputs": [
    {
     "data": {
      "text/plain": [
       "(0      1.1\n",
       " 1      1.3\n",
       " 2      1.5\n",
       " 3      2.0\n",
       " 4      2.2\n",
       " 5      2.9\n",
       " 6      3.0\n",
       " 7      3.2\n",
       " 8      3.2\n",
       " 9      3.7\n",
       " 10     3.9\n",
       " 11     4.0\n",
       " 12     4.0\n",
       " 13     4.1\n",
       " 14     4.5\n",
       " 15     4.9\n",
       " 16     5.1\n",
       " 17     5.3\n",
       " 18     5.9\n",
       " 19     6.0\n",
       " 20     6.8\n",
       " 21     7.1\n",
       " 22     7.9\n",
       " 23     8.2\n",
       " 24     8.7\n",
       " 25     9.0\n",
       " 26     9.5\n",
       " 27     9.6\n",
       " 28    10.3\n",
       " 29    10.5\n",
       " Name: YearsExperience, dtype: float64, 0      39343.0\n",
       " 1      46205.0\n",
       " 2      37731.0\n",
       " 3      43525.0\n",
       " 4      39891.0\n",
       " 5      56642.0\n",
       " 6      60150.0\n",
       " 7      54445.0\n",
       " 8      64445.0\n",
       " 9      57189.0\n",
       " 10     63218.0\n",
       " 11     55794.0\n",
       " 12     56957.0\n",
       " 13     57081.0\n",
       " 14     61111.0\n",
       " 15     67938.0\n",
       " 16     66029.0\n",
       " 17     83088.0\n",
       " 18     81363.0\n",
       " 19     93940.0\n",
       " 20     91738.0\n",
       " 21     98273.0\n",
       " 22    101302.0\n",
       " 23    113812.0\n",
       " 24    109431.0\n",
       " 25    105582.0\n",
       " 26    116969.0\n",
       " 27    112635.0\n",
       " 28    122391.0\n",
       " 29    121872.0\n",
       " Name: Salary, dtype: float64)"
      ]
     },
     "execution_count": 16,
     "metadata": {},
     "output_type": "execute_result"
    }
   ],
   "source": [
    "df['YearsExperience'], df['Salary']"
   ]
  },
  {
   "cell_type": "code",
   "execution_count": 103,
   "metadata": {},
   "outputs": [],
   "source": [
    "# X = df['YearsExperience']\n",
    "X = df[['YearsExperience']]\n",
    "y = df['Salary']\n",
    "X_train, X_test, y_train, y_test = train_test_split(X, y, test_size=1/3, random_state=101)"
   ]
  },
  {
   "cell_type": "code",
   "execution_count": 104,
   "metadata": {},
   "outputs": [
    {
     "data": {
      "text/plain": [
       "(    YearsExperience\n",
       " 0               1.1\n",
       " 1               1.3\n",
       " 2               1.5\n",
       " 3               2.0\n",
       " 4               2.2\n",
       " 5               2.9\n",
       " 6               3.0\n",
       " 7               3.2\n",
       " 8               3.2\n",
       " 9               3.7\n",
       " 10              3.9\n",
       " 11              4.0\n",
       " 12              4.0\n",
       " 13              4.1\n",
       " 14              4.5\n",
       " 15              4.9\n",
       " 16              5.1\n",
       " 17              5.3\n",
       " 18              5.9\n",
       " 19              6.0\n",
       " 20              6.8\n",
       " 21              7.1\n",
       " 22              7.9\n",
       " 23              8.2\n",
       " 24              8.7\n",
       " 25              9.0\n",
       " 26              9.5\n",
       " 27              9.6\n",
       " 28             10.3\n",
       " 29             10.5, 0      39343.0\n",
       " 1      46205.0\n",
       " 2      37731.0\n",
       " 3      43525.0\n",
       " 4      39891.0\n",
       " 5      56642.0\n",
       " 6      60150.0\n",
       " 7      54445.0\n",
       " 8      64445.0\n",
       " 9      57189.0\n",
       " 10     63218.0\n",
       " 11     55794.0\n",
       " 12     56957.0\n",
       " 13     57081.0\n",
       " 14     61111.0\n",
       " 15     67938.0\n",
       " 16     66029.0\n",
       " 17     83088.0\n",
       " 18     81363.0\n",
       " 19     93940.0\n",
       " 20     91738.0\n",
       " 21     98273.0\n",
       " 22    101302.0\n",
       " 23    113812.0\n",
       " 24    109431.0\n",
       " 25    105582.0\n",
       " 26    116969.0\n",
       " 27    112635.0\n",
       " 28    122391.0\n",
       " 29    121872.0\n",
       " Name: Salary, dtype: float64)"
      ]
     },
     "execution_count": 104,
     "metadata": {},
     "output_type": "execute_result"
    }
   ],
   "source": [
    "X, y"
   ]
  },
  {
   "cell_type": "code",
   "execution_count": 105,
   "metadata": {},
   "outputs": [
    {
     "data": {
      "text/plain": [
       "(20, 10, 20, 10)"
      ]
     },
     "execution_count": 105,
     "metadata": {},
     "output_type": "execute_result"
    }
   ],
   "source": [
    "len(X_train), len(X_test), len(y_train), len(y_test)"
   ]
  },
  {
   "cell_type": "code",
   "execution_count": 106,
   "metadata": {},
   "outputs": [
    {
     "data": {
      "text/plain": [
       "LinearRegression(copy_X=True, fit_intercept=True, n_jobs=1, normalize=False)"
      ]
     },
     "execution_count": 106,
     "metadata": {},
     "output_type": "execute_result"
    }
   ],
   "source": [
    "from sklearn.linear_model import LinearRegression\n",
    "lr = LinearRegression()\n",
    "lr.fit(X_train, y_train)"
   ]
  },
  {
   "cell_type": "code",
   "execution_count": 107,
   "metadata": {},
   "outputs": [
    {
     "data": {
      "text/plain": [
       "(array([9692.26318876]), 25570.538282485482)"
      ]
     },
     "execution_count": 107,
     "metadata": {},
     "output_type": "execute_result"
    }
   ],
   "source": [
    "lr.coef_, lr.intercept_\n",
    "# y = lr.coef_ * X + lr.intercept_\n",
    "# y = 9692.26318876 * X + 25570.538282485482"
   ]
  },
  {
   "cell_type": "code",
   "execution_count": 108,
   "metadata": {},
   "outputs": [],
   "source": [
    "y_pred = lr.predict(X_test)"
   ]
  },
  {
   "cell_type": "code",
   "execution_count": 109,
   "metadata": {},
   "outputs": [
    {
     "data": {
      "text/html": [
       "<div>\n",
       "<style scoped>\n",
       "    .dataframe tbody tr th:only-of-type {\n",
       "        vertical-align: middle;\n",
       "    }\n",
       "\n",
       "    .dataframe tbody tr th {\n",
       "        vertical-align: top;\n",
       "    }\n",
       "\n",
       "    .dataframe thead th {\n",
       "        text-align: right;\n",
       "    }\n",
       "</style>\n",
       "<table border=\"1\" class=\"dataframe\">\n",
       "  <thead>\n",
       "    <tr style=\"text-align: right;\">\n",
       "      <th></th>\n",
       "      <th>predicted</th>\n",
       "      <th>actual</th>\n",
       "    </tr>\n",
       "  </thead>\n",
       "  <tbody>\n",
       "    <tr>\n",
       "      <th>20</th>\n",
       "      <td>91477.927966</td>\n",
       "      <td>91738.0</td>\n",
       "    </tr>\n",
       "    <tr>\n",
       "      <th>24</th>\n",
       "      <td>109893.228025</td>\n",
       "      <td>109431.0</td>\n",
       "    </tr>\n",
       "    <tr>\n",
       "      <th>7</th>\n",
       "      <td>56585.780487</td>\n",
       "      <td>54445.0</td>\n",
       "    </tr>\n",
       "    <tr>\n",
       "      <th>18</th>\n",
       "      <td>82754.891096</td>\n",
       "      <td>81363.0</td>\n",
       "    </tr>\n",
       "    <tr>\n",
       "      <th>2</th>\n",
       "      <td>40108.933066</td>\n",
       "      <td>37731.0</td>\n",
       "    </tr>\n",
       "    <tr>\n",
       "      <th>27</th>\n",
       "      <td>118616.264895</td>\n",
       "      <td>112635.0</td>\n",
       "    </tr>\n",
       "    <tr>\n",
       "      <th>26</th>\n",
       "      <td>117647.038576</td>\n",
       "      <td>116969.0</td>\n",
       "    </tr>\n",
       "    <tr>\n",
       "      <th>16</th>\n",
       "      <td>75001.080545</td>\n",
       "      <td>66029.0</td>\n",
       "    </tr>\n",
       "    <tr>\n",
       "      <th>25</th>\n",
       "      <td>112800.906981</td>\n",
       "      <td>105582.0</td>\n",
       "    </tr>\n",
       "    <tr>\n",
       "      <th>28</th>\n",
       "      <td>125400.849127</td>\n",
       "      <td>122391.0</td>\n",
       "    </tr>\n",
       "  </tbody>\n",
       "</table>\n",
       "</div>"
      ],
      "text/plain": [
       "        predicted    actual\n",
       "20   91477.927966   91738.0\n",
       "24  109893.228025  109431.0\n",
       "7    56585.780487   54445.0\n",
       "18   82754.891096   81363.0\n",
       "2    40108.933066   37731.0\n",
       "27  118616.264895  112635.0\n",
       "26  117647.038576  116969.0\n",
       "16   75001.080545   66029.0\n",
       "25  112800.906981  105582.0\n",
       "28  125400.849127  122391.0"
      ]
     },
     "execution_count": 109,
     "metadata": {},
     "output_type": "execute_result"
    }
   ],
   "source": [
    "pd.DataFrame({'predicted':y_pred, 'actual':y_test})"
   ]
  },
  {
   "cell_type": "code",
   "execution_count": 110,
   "metadata": {},
   "outputs": [],
   "source": [
    "y_model_values1 = [lr.coef_ * x + lr.intercept_ for x in df['YearsExperience']]\n",
    "y_model_values2 = lr.predict(X)\n",
    "y_model_values3 = lr.coef_ * df['YearsExperience'] + lr.intercept_"
   ]
  },
  {
   "cell_type": "code",
   "execution_count": 111,
   "metadata": {},
   "outputs": [
    {
     "data": {
      "text/plain": [
       "[<matplotlib.lines.Line2D at 0x1a1ed549e8>]"
      ]
     },
     "execution_count": 111,
     "metadata": {},
     "output_type": "execute_result"
    },
    {
     "data": {
      "image/png": "[encoded data removed]",
      "text/plain": [
       "<Figure size 432x288 with 1 Axes>"
      ]
     },
     "metadata": {},
     "output_type": "display_data"
    }
   ],
   "source": [
    "plt.scatter(df['YearsExperience'], df['Salary'], color='blue')\n",
    "#plt.scatter(df['YearsExperience'], y_model_values1, color='red')\n",
    "#plt.scatter(df['YearsExperience'], y_model_values2, color='orange')\n",
    "#plt.plot(df['YearsExperience'], y_model_values1, color='red')\n",
    "plt.plot(df['YearsExperience'], y_model_values2, color='orange')"
   ]
  },
  {
   "cell_type": "code",
   "execution_count": 112,
   "metadata": {},
   "outputs": [
    {
     "data": {
      "text/plain": [
       "[<matplotlib.lines.Line2D at 0x1a1ee3cf98>]"
      ]
     },
     "execution_count": 112,
     "metadata": {},
     "output_type": "execute_result"
    },
    {
     "data": {
      "image/png": "[encoded data removed]",
      "text/plain": [
       "<Figure size 432x288 with 1 Axes>"
      ]
     },
     "metadata": {},
     "output_type": "display_data"
    }
   ],
   "source": [
    "plt.scatter(X_test, y_test, color='green')\n",
    "plt.scatter(X_test, y_pred, color='red')\n",
    "#plt.plot(X_test, y_test, color='blue')\n",
    "plt.plot(X_test, y_pred, color='orange')\n"
   ]
  },
  {
   "cell_type": "code",
   "execution_count": 113,
   "metadata": {},
   "outputs": [
    {
     "data": {
      "text/plain": [
       "(array([161262.22292507]), array([161262.22292507]))"
      ]
     },
     "execution_count": 113,
     "metadata": {},
     "output_type": "execute_result"
    }
   ],
   "source": [
    "lr.predict(14), lr.predict([[14]])"
   ]
  },
  {
   "cell_type": "code",
   "execution_count": 114,
   "metadata": {},
   "outputs": [],
   "source": [
    "import math"
   ]
  },
  {
   "cell_type": "code",
   "execution_count": 115,
   "metadata": {},
   "outputs": [
    {
     "name": "stdout",
     "output_type": "stream",
     "text": [
      "MAE 3249.304483022086\n",
      "MSE 19036146.491626855\n",
      "RMSE 4363.043260343273\n"
     ]
    }
   ],
   "source": [
    "from sklearn.metrics import mean_absolute_error, mean_squared_error\n",
    "print(\"MAE\", mean_absolute_error(y_test, y_pred))\n",
    "print(\"MSE\", mean_squared_error(y_test, y_pred))\n",
    "print(\"RMSE\", math.sqrt(mean_squared_error(y_test, y_pred)))"
   ]
  },
  {
   "cell_type": "markdown",
   "metadata": {},
   "source": [
    "random_state = 101\n",
    "MAE 3249.304483022086\n",
    "MSE 19036146.491626855\n",
    "RMSE 4363.043260343273\n",
    "\n",
    "random_state = 11\n",
    "MAE 4865.007791330203\n",
    "MSE 29399137.02084305\n",
    "RMSE 5422.09710544205\n",
    "\n",
    "random_state = 1\n",
    "MAE 5049.818093659744\n",
    "MSE 37496296.6187984\n",
    "RMSE 6123.421969683161\n"
   ]
  }
 ],
 "metadata": {
  "kernelspec": {
   "display_name": "Python 3",
   "language": "python",
   "name": "python3"
  },
  "language_info": {
   "codemirror_mode": {
    "name": "ipython",
    "version": 3
   },
   "file_extension": ".py",
   "mimetype": "text/x-python",
   "name": "python",
   "nbconvert_exporter": "python",
   "pygments_lexer": "ipython3",
   "version": "3.6.5"
  }
 },
 "nbformat": 4,
 "nbformat_minor": 2
}
