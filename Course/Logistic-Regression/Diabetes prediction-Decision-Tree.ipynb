{
 "cells": [
  {
   "cell_type": "code",
   "execution_count": 3,
   "metadata": {},
   "outputs": [],
   "source": [
    "%matplotlib inline\n",
    "import numpy as np\n",
    "import pandas as pd\n",
    "import matplotlib.pyplot as plt"
   ]
  },
  {
   "cell_type": "markdown",
   "metadata": {},
   "source": [
    "- load diabetes data set"
   ]
  },
  {
   "cell_type": "code",
   "execution_count": 4,
   "metadata": {},
   "outputs": [
    {
     "data": {
      "text/plain": [
       "Index(['Row', 'preg_count', 'glucose_concentration', 'diastolic_bp',\n",
       "       'triceps_skin_fold_thickness', 'two_hr_serum_insulin', 'bmi',\n",
       "       'diabetes_pedi', 'age', 'diabetes_class'],\n",
       "      dtype='object')"
      ]
     },
     "execution_count": 4,
     "metadata": {},
     "output_type": "execute_result"
    }
   ],
   "source": [
    "df = pd.read_csv('diabetes_data_train_710samples.csv')\n",
    "df.head()\n",
    "df.columns"
   ]
  },
  {
   "cell_type": "markdown",
   "metadata": {},
   "source": [
    "- select features and target"
   ]
  },
  {
   "cell_type": "code",
   "execution_count": 5,
   "metadata": {},
   "outputs": [],
   "source": [
    "X = df[['preg_count', 'glucose_concentration', 'diastolic_bp',\n",
    "        'triceps_skin_fold_thickness', 'two_hr_serum_insulin', 'bmi',\n",
    "        'diabetes_pedi', 'age']]\n",
    "y = df['diabetes_class']"
   ]
  },
  {
   "cell_type": "markdown",
   "metadata": {},
   "source": [
    "- split the data set"
   ]
  },
  {
   "cell_type": "code",
   "execution_count": 7,
   "metadata": {},
   "outputs": [],
   "source": [
    "from sklearn.model_selection import train_test_split\n",
    "X_train, X_test, y_train, y_test = train_test_split(X, y, test_size=0.3, random_state=101)"
   ]
  },
  {
   "cell_type": "markdown",
   "metadata": {},
   "source": [
    "- Use DecisionTree (Supervised learning)"
   ]
  },
  {
   "cell_type": "code",
   "execution_count": 8,
   "metadata": {},
   "outputs": [],
   "source": [
    "from sklearn.tree import DecisionTreeClassifier\n",
    "dtc = DecisionTreeClassifier()"
   ]
  },
  {
   "cell_type": "code",
   "execution_count": 9,
   "metadata": {},
   "outputs": [
    {
     "data": {
      "text/plain": [
       "DecisionTreeClassifier(class_weight=None, criterion='gini', max_depth=None,\n",
       "            max_features=None, max_leaf_nodes=None,\n",
       "            min_impurity_decrease=0.0, min_impurity_split=None,\n",
       "            min_samples_leaf=1, min_samples_split=2,\n",
       "            min_weight_fraction_leaf=0.0, presort=False, random_state=None,\n",
       "            splitter='best')"
      ]
     },
     "execution_count": 9,
     "metadata": {},
     "output_type": "execute_result"
    }
   ],
   "source": [
    "dtc.fit(X_train, y_train)"
   ]
  },
  {
   "cell_type": "code",
   "execution_count": 10,
   "metadata": {},
   "outputs": [],
   "source": [
    "y_pred = dtc.predict(X_test)"
   ]
  },
  {
   "cell_type": "code",
   "execution_count": 11,
   "metadata": {},
   "outputs": [],
   "source": [
    "from sklearn.metrics import confusion_matrix"
   ]
  },
  {
   "cell_type": "code",
   "execution_count": 12,
   "metadata": {},
   "outputs": [
    {
     "data": {
      "text/plain": [
       "0.7323943661971831"
      ]
     },
     "execution_count": 12,
     "metadata": {},
     "output_type": "execute_result"
    }
   ],
   "source": [
    "dtc.score(X_test, y_test)"
   ]
  },
  {
   "cell_type": "markdown",
   "metadata": {},
   "source": [
    "- Use Random Forest (Supervised learning)"
   ]
  },
  {
   "cell_type": "code",
   "execution_count": 13,
   "metadata": {},
   "outputs": [],
   "source": [
    "from sklearn.ensemble import RandomForestClassifier"
   ]
  },
  {
   "cell_type": "code",
   "execution_count": 14,
   "metadata": {},
   "outputs": [],
   "source": [
    "tf = RandomForestClassifier()"
   ]
  },
  {
   "cell_type": "code",
   "execution_count": 15,
   "metadata": {},
   "outputs": [
    {
     "data": {
      "text/plain": [
       "RandomForestClassifier(bootstrap=True, class_weight=None, criterion='gini',\n",
       "            max_depth=None, max_features='auto', max_leaf_nodes=None,\n",
       "            min_impurity_decrease=0.0, min_impurity_split=None,\n",
       "            min_samples_leaf=1, min_samples_split=2,\n",
       "            min_weight_fraction_leaf=0.0, n_estimators=10, n_jobs=1,\n",
       "            oob_score=False, random_state=None, verbose=0,\n",
       "            warm_start=False)"
      ]
     },
     "execution_count": 15,
     "metadata": {},
     "output_type": "execute_result"
    }
   ],
   "source": [
    "tf.fit(X_train, y_train)"
   ]
  },
  {
   "cell_type": "code",
   "execution_count": 17,
   "metadata": {},
   "outputs": [],
   "source": [
    "y_pred = dtc.predict(X_test)"
   ]
  },
  {
   "cell_type": "code",
   "execution_count": 19,
   "metadata": {},
   "outputs": [
    {
     "data": {
      "text/plain": [
       "0.7230046948356808"
      ]
     },
     "execution_count": 19,
     "metadata": {},
     "output_type": "execute_result"
    }
   ],
   "source": [
    "from sklearn.metrics import confusion_matrix\n",
    "tf.score(X_test, y_test)"
   ]
  },
  {
   "cell_type": "markdown",
   "metadata": {},
   "source": [
    "- Using Logistic Regression"
   ]
  },
  {
   "cell_type": "code",
   "execution_count": 11,
   "metadata": {},
   "outputs": [
    {
     "data": {
      "text/plain": [
       "LogisticRegression(C=1.0, class_weight=None, dual=False, fit_intercept=True,\n",
       "          intercept_scaling=1, max_iter=100, multi_class='ovr', n_jobs=1,\n",
       "          penalty='l2', random_state=None, solver='liblinear', tol=0.0001,\n",
       "          verbose=0, warm_start=False)"
      ]
     },
     "execution_count": 11,
     "metadata": {},
     "output_type": "execute_result"
    }
   ],
   "source": [
    "from sklearn.linear_model import LogisticRegression\n",
    "lr = LogisticRegression()\n",
    "lr.fit(X_train, y_train)"
   ]
  },
  {
   "cell_type": "markdown",
   "metadata": {},
   "source": [
    "- predict the value"
   ]
  },
  {
   "cell_type": "code",
   "execution_count": 14,
   "metadata": {},
   "outputs": [],
   "source": [
    "y_pred = lr.predict(X_test)"
   ]
  },
  {
   "cell_type": "code",
   "execution_count": 15,
   "metadata": {},
   "outputs": [
    {
     "data": {
      "text/plain": [
       "array([0, 0, 0, 0, 0, 0, 0, 0, 0, 1, 0, 0, 1, 1, 0, 1, 0, 0, 0, 0, 0, 1,\n",
       "       0, 1, 1, 0, 1, 1, 1, 0, 0, 0, 0, 0, 0, 0, 1, 1, 0, 0, 0, 0, 0, 0,\n",
       "       0, 0, 0, 0, 0, 1, 0, 0, 1, 0, 0, 0, 0, 0, 0, 0, 0, 0, 0, 1, 0, 0,\n",
       "       0, 0, 1, 1, 1, 0, 1, 0, 0, 1, 0, 0, 1, 0, 0, 1, 0, 0, 0, 0, 0, 0,\n",
       "       0, 1, 0, 1, 0, 1, 1, 0, 1, 0, 0, 0, 0, 0, 0, 1, 1, 1, 1, 1, 0, 1,\n",
       "       0, 0, 1, 0, 0, 0, 0, 0, 0, 0, 1, 0, 0, 0, 0, 0, 0, 1, 0, 0, 0, 0,\n",
       "       0, 0, 0, 0, 1, 0, 0, 0, 0, 0, 0, 0, 0, 0, 1, 0, 0, 0, 1, 1, 0, 0,\n",
       "       0, 0, 0, 0, 0, 0, 1, 0, 1, 0, 0, 1, 0, 1, 0, 1, 0, 1, 0, 1, 0, 0,\n",
       "       0, 0, 0, 0, 0, 1, 0, 0, 1, 0, 0, 0, 0, 1, 1, 0, 0, 1, 0, 0, 0, 1,\n",
       "       1, 0, 1, 0, 0, 0, 0, 1, 1, 1, 0, 0, 1, 0, 1])"
      ]
     },
     "execution_count": 15,
     "metadata": {},
     "output_type": "execute_result"
    }
   ],
   "source": [
    "y_pred"
   ]
  },
  {
   "cell_type": "markdown",
   "metadata": {},
   "source": [
    "- metrics for LR  - lr.score(X_test, y_test)"
   ]
  },
  {
   "cell_type": "code",
   "execution_count": 33,
   "metadata": {},
   "outputs": [
    {
     "data": {
      "text/plain": [
       "(464, 710, 0.6535211267605634)"
      ]
     },
     "execution_count": 33,
     "metadata": {},
     "output_type": "execute_result"
    }
   ],
   "source": [
    "# Lets cacluate the Random Guess Probability\n",
    "# And we will compare with the prediction percentage returned by model\n",
    "len(df[df['diabetes_class'] == 0]), len(df), len(df[df['diabetes_class'] == 0])/len(df)"
   ]
  },
  {
   "cell_type": "code",
   "execution_count": 20,
   "metadata": {},
   "outputs": [],
   "source": [
    "check = pd.DataFrame({'actual':y_test, 'predicted':y_pred})"
   ]
  },
  {
   "cell_type": "code",
   "execution_count": 21,
   "metadata": {},
   "outputs": [
    {
     "data": {
      "text/plain": [
       "(161, 213)"
      ]
     },
     "execution_count": 21,
     "metadata": {},
     "output_type": "execute_result"
    }
   ],
   "source": [
    "len(check[check['actual']==check['predicted']]), len(check)"
   ]
  },
  {
   "cell_type": "code",
   "execution_count": 22,
   "metadata": {},
   "outputs": [
    {
     "data": {
      "text/plain": [
       "0.755868544600939"
      ]
     },
     "execution_count": 22,
     "metadata": {},
     "output_type": "execute_result"
    }
   ],
   "source": [
    "lr.score(X_test, y_test)"
   ]
  },
  {
   "cell_type": "markdown",
   "metadata": {},
   "source": [
    "- another metric confusion matrix \n",
    "- import confustion_matrix from sklearn.metrics\n",
    "- tn, fp, fn, tp"
   ]
  },
  {
   "cell_type": "code",
   "execution_count": 24,
   "metadata": {},
   "outputs": [
    {
     "data": {
      "text/plain": [
       "array([[119,  34],\n",
       "       [ 18,  42]])"
      ]
     },
     "execution_count": 24,
     "metadata": {},
     "output_type": "execute_result"
    }
   ],
   "source": [
    "from sklearn.metrics import confusion_matrix\n",
    "confusion_matrix(y_pred, y_test)"
   ]
  },
  {
   "cell_type": "code",
   "execution_count": 50,
   "metadata": {},
   "outputs": [
    {
     "data": {
      "text/plain": [
       "(119, 18, 34, 42, 0.755868544600939)"
      ]
     },
     "execution_count": 50,
     "metadata": {},
     "output_type": "execute_result"
    }
   ],
   "source": [
    "#True Negatives, False Positives, False Negatives, True Positives\n",
    "tn, fp, fn, tp = confusion_matrix(y_test, y_pred).ravel()\n",
    "tn, fp, fn, tp, (tn + tp)/(tn + tp + fn + fp)"
   ]
  },
  {
   "cell_type": "markdown",
   "metadata": {},
   "source": [
    "- change threshold by running predict_proba instead of predict"
   ]
  },
  {
   "cell_type": "code",
   "execution_count": 36,
   "metadata": {},
   "outputs": [],
   "source": [
    "y_prob_pred = lr.predict_proba(X_test)"
   ]
  },
  {
   "cell_type": "code",
   "execution_count": 37,
   "metadata": {},
   "outputs": [
    {
     "data": {
      "text/plain": [
       "array([[0.94570823, 0.05429177],\n",
       "       [0.75411808, 0.24588192],\n",
       "       [0.65761011, 0.34238989],\n",
       "       [0.90761056, 0.09238944],\n",
       "       [0.84579983, 0.15420017],\n",
       "       [0.74861263, 0.25138737],\n",
       "       [0.79381964, 0.20618036],\n",
       "       [0.5536263 , 0.4463737 ],\n",
       "       [0.54445347, 0.45554653],\n",
       "       [0.39282426, 0.60717574],\n",
       "       [0.80562053, 0.19437947],\n",
       "       [0.82433531, 0.17566469],\n",
       "       [0.38413812, 0.61586188],\n",
       "       [0.46088696, 0.53911304],\n",
       "       [0.80631931, 0.19368069],\n",
       "       [0.25600877, 0.74399123],\n",
       "       [0.92965161, 0.07034839],\n",
       "       [0.60542468, 0.39457532],\n",
       "       [0.90150747, 0.09849253],\n",
       "       [0.60760943, 0.39239057],\n",
       "       [0.93181777, 0.06818223],\n",
       "       [0.07900526, 0.92099474],\n",
       "       [0.8849568 , 0.1150432 ],\n",
       "       [0.3182982 , 0.6817018 ],\n",
       "       [0.31561487, 0.68438513],\n",
       "       [0.61286625, 0.38713375],\n",
       "       [0.44983518, 0.55016482],\n",
       "       [0.18678482, 0.81321518],\n",
       "       [0.28406564, 0.71593436],\n",
       "       [0.82180096, 0.17819904],\n",
       "       [0.91088244, 0.08911756],\n",
       "       [0.87744167, 0.12255833],\n",
       "       [0.89514986, 0.10485014],\n",
       "       [0.6548206 , 0.3451794 ],\n",
       "       [0.7866913 , 0.2133087 ],\n",
       "       [0.79851222, 0.20148778],\n",
       "       [0.49039216, 0.50960784],\n",
       "       [0.4096908 , 0.5903092 ],\n",
       "       [0.55217118, 0.44782882],\n",
       "       [0.68225182, 0.31774818],\n",
       "       [0.80868447, 0.19131553],\n",
       "       [0.82617541, 0.17382459],\n",
       "       [0.8064621 , 0.1935379 ],\n",
       "       [0.87449652, 0.12550348],\n",
       "       [0.92666994, 0.07333006],\n",
       "       [0.89305716, 0.10694284],\n",
       "       [0.67938693, 0.32061307],\n",
       "       [0.55267829, 0.44732171],\n",
       "       [0.68967643, 0.31032357],\n",
       "       [0.41620445, 0.58379555],\n",
       "       [0.62329748, 0.37670252],\n",
       "       [0.86018251, 0.13981749],\n",
       "       [0.21522037, 0.78477963],\n",
       "       [0.542011  , 0.457989  ],\n",
       "       [0.6935154 , 0.3064846 ],\n",
       "       [0.64778326, 0.35221674],\n",
       "       [0.52667424, 0.47332576],\n",
       "       [0.76014082, 0.23985918],\n",
       "       [0.79121672, 0.20878328],\n",
       "       [0.68704602, 0.31295398],\n",
       "       [0.60505835, 0.39494165],\n",
       "       [0.86839297, 0.13160703],\n",
       "       [0.81801853, 0.18198147],\n",
       "       [0.31950675, 0.68049325],\n",
       "       [0.94840772, 0.05159228],\n",
       "       [0.92696947, 0.07303053],\n",
       "       [0.88984325, 0.11015675],\n",
       "       [0.53445521, 0.46554479],\n",
       "       [0.39072639, 0.60927361],\n",
       "       [0.33893892, 0.66106108],\n",
       "       [0.23679578, 0.76320422],\n",
       "       [0.72409114, 0.27590886],\n",
       "       [0.39190302, 0.60809698],\n",
       "       [0.65067223, 0.34932777],\n",
       "       [0.73666207, 0.26333793],\n",
       "       [0.2781403 , 0.7218597 ],\n",
       "       [0.61848285, 0.38151715],\n",
       "       [0.60732498, 0.39267502],\n",
       "       [0.45114347, 0.54885653],\n",
       "       [0.72920358, 0.27079642],\n",
       "       [0.50350643, 0.49649357],\n",
       "       [0.11852174, 0.88147826],\n",
       "       [0.59269761, 0.40730239],\n",
       "       [0.56366133, 0.43633867],\n",
       "       [0.8000705 , 0.1999295 ],\n",
       "       [0.85132635, 0.14867365],\n",
       "       [0.8242447 , 0.1757553 ],\n",
       "       [0.66957819, 0.33042181],\n",
       "       [0.86991648, 0.13008352],\n",
       "       [0.27536283, 0.72463717],\n",
       "       [0.68858227, 0.31141773],\n",
       "       [0.22761072, 0.77238928],\n",
       "       [0.77709928, 0.22290072],\n",
       "       [0.35481287, 0.64518713],\n",
       "       [0.46670991, 0.53329009],\n",
       "       [0.54503053, 0.45496947],\n",
       "       [0.33075606, 0.66924394],\n",
       "       [0.83690724, 0.16309276],\n",
       "       [0.82706984, 0.17293016],\n",
       "       [0.66868741, 0.33131259],\n",
       "       [0.87083843, 0.12916157],\n",
       "       [0.77957187, 0.22042813],\n",
       "       [0.57054966, 0.42945034],\n",
       "       [0.39543526, 0.60456474],\n",
       "       [0.29240989, 0.70759011],\n",
       "       [0.36557154, 0.63442846],\n",
       "       [0.27981827, 0.72018173],\n",
       "       [0.35521125, 0.64478875],\n",
       "       [0.93306598, 0.06693402],\n",
       "       [0.27308494, 0.72691506],\n",
       "       [0.65004719, 0.34995281],\n",
       "       [0.66716776, 0.33283224],\n",
       "       [0.27921009, 0.72078991],\n",
       "       [0.63344593, 0.36655407],\n",
       "       [0.85962549, 0.14037451],\n",
       "       [0.79051264, 0.20948736],\n",
       "       [0.80641369, 0.19358631],\n",
       "       [0.91898617, 0.08101383],\n",
       "       [0.53198135, 0.46801865],\n",
       "       [0.74928113, 0.25071887],\n",
       "       [0.27873656, 0.72126344],\n",
       "       [0.61567799, 0.38432201],\n",
       "       [0.86935295, 0.13064705],\n",
       "       [0.63100113, 0.36899887],\n",
       "       [0.65198732, 0.34801268],\n",
       "       [0.84008846, 0.15991154],\n",
       "       [0.84862325, 0.15137675],\n",
       "       [0.20151297, 0.79848703],\n",
       "       [0.6524469 , 0.3475531 ],\n",
       "       [0.57935677, 0.42064323],\n",
       "       [0.90477012, 0.09522988],\n",
       "       [0.62733152, 0.37266848],\n",
       "       [0.72987052, 0.27012948],\n",
       "       [0.51782825, 0.48217175],\n",
       "       [0.77934241, 0.22065759],\n",
       "       [0.80061963, 0.19938037],\n",
       "       [0.29584935, 0.70415065],\n",
       "       [0.89613922, 0.10386078],\n",
       "       [0.73519812, 0.26480188],\n",
       "       [0.87881026, 0.12118974],\n",
       "       [0.70570014, 0.29429986],\n",
       "       [0.64620177, 0.35379823],\n",
       "       [0.62528879, 0.37471121],\n",
       "       [0.7552273 , 0.2447727 ],\n",
       "       [0.91369098, 0.08630902],\n",
       "       [0.80419317, 0.19580683],\n",
       "       [0.23323329, 0.76676671],\n",
       "       [0.88584141, 0.11415859],\n",
       "       [0.63135311, 0.36864689],\n",
       "       [0.71128212, 0.28871788],\n",
       "       [0.28436891, 0.71563109],\n",
       "       [0.31261019, 0.68738981],\n",
       "       [0.6412227 , 0.3587773 ],\n",
       "       [0.68232103, 0.31767897],\n",
       "       [0.81056175, 0.18943825],\n",
       "       [0.79461183, 0.20538817],\n",
       "       [0.77069157, 0.22930843],\n",
       "       [0.8523132 , 0.1476868 ],\n",
       "       [0.65310003, 0.34689997],\n",
       "       [0.93865027, 0.06134973],\n",
       "       [0.31988389, 0.68011611],\n",
       "       [0.74539315, 0.25460685],\n",
       "       [0.32547109, 0.67452891],\n",
       "       [0.7841134 , 0.2158866 ],\n",
       "       [0.88724796, 0.11275204],\n",
       "       [0.38348148, 0.61651852],\n",
       "       [0.61251251, 0.38748749],\n",
       "       [0.31514209, 0.68485791],\n",
       "       [0.50806048, 0.49193952],\n",
       "       [0.39892347, 0.60107653],\n",
       "       [0.52388405, 0.47611595],\n",
       "       [0.48127709, 0.51872291],\n",
       "       [0.59450289, 0.40549711],\n",
       "       [0.48417858, 0.51582142],\n",
       "       [0.90491871, 0.09508129],\n",
       "       [0.59695927, 0.40304073],\n",
       "       [0.96222308, 0.03777692],\n",
       "       [0.93374778, 0.06625222],\n",
       "       [0.93361024, 0.06638976],\n",
       "       [0.89463488, 0.10536512],\n",
       "       [0.8318249 , 0.1681751 ],\n",
       "       [0.25975931, 0.74024069],\n",
       "       [0.77682516, 0.22317484],\n",
       "       [0.92076263, 0.07923737],\n",
       "       [0.31870821, 0.68129179],\n",
       "       [0.83550509, 0.16449491],\n",
       "       [0.92131683, 0.07868317],\n",
       "       [0.82715151, 0.17284849],\n",
       "       [0.69666379, 0.30333621],\n",
       "       [0.28212724, 0.71787276],\n",
       "       [0.27907553, 0.72092447],\n",
       "       [0.72613935, 0.27386065],\n",
       "       [0.74730837, 0.25269163],\n",
       "       [0.30953248, 0.69046752],\n",
       "       [0.85391091, 0.14608909],\n",
       "       [0.79447743, 0.20552257],\n",
       "       [0.80992117, 0.19007883],\n",
       "       [0.49306141, 0.50693859],\n",
       "       [0.30813512, 0.69186488],\n",
       "       [0.79330085, 0.20669915],\n",
       "       [0.23547739, 0.76452261],\n",
       "       [0.89255211, 0.10744789],\n",
       "       [0.86957268, 0.13042732],\n",
       "       [0.60377514, 0.39622486],\n",
       "       [0.52825573, 0.47174427],\n",
       "       [0.42297862, 0.57702138],\n",
       "       [0.34965359, 0.65034641],\n",
       "       [0.33010027, 0.66989973],\n",
       "       [0.80251073, 0.19748927],\n",
       "       [0.78180437, 0.21819563],\n",
       "       [0.45605515, 0.54394485],\n",
       "       [0.79562235, 0.20437765],\n",
       "       [0.26901459, 0.73098541]])"
      ]
     },
     "execution_count": 37,
     "metadata": {},
     "output_type": "execute_result"
    }
   ],
   "source": [
    "y_prob_pred"
   ]
  },
  {
   "cell_type": "code",
   "execution_count": 39,
   "metadata": {},
   "outputs": [
    {
     "name": "stdout",
     "output_type": "stream",
     "text": [
      "[[0.94570823 0.05429177]\n",
      " [0.75411808 0.24588192]\n",
      " [0.65761011 0.34238989]\n",
      " [0.90761056 0.09238944]\n",
      " [0.84579983 0.15420017]]\n",
      "81     0\n",
      "77     0\n",
      "216    1\n",
      "225    0\n",
      "654    0\n",
      "Name: diabetes_class, dtype: int64\n"
     ]
    }
   ],
   "source": [
    "print(y_prob_pred[:5])\n",
    "print(y_test[:5])"
   ]
  },
  {
   "cell_type": "code",
   "execution_count": 42,
   "metadata": {},
   "outputs": [],
   "source": [
    "y_my_pred = [ 0 if p < 0.3 else 1 for n,p in y_prob_pred ]"
   ]
  },
  {
   "cell_type": "code",
   "execution_count": 44,
   "metadata": {},
   "outputs": [
    {
     "data": {
      "text/plain": [
       "(87, 10, 50, 66, 0.7183098591549296)"
      ]
     },
     "execution_count": 44,
     "metadata": {},
     "output_type": "execute_result"
    }
   ],
   "source": [
    "tn, fp, fn, tp = confusion_matrix(y_my_pred, y_test).ravel()\n",
    "tn, fp, fn, tp, (tn + tp)/(tn + tp + fn + fp)"
   ]
  },
  {
   "cell_type": "code",
   "execution_count": 63,
   "metadata": {},
   "outputs": [
    {
     "name": "stdout",
     "output_type": "stream",
     "text": [
      "0.1 20 117 0 76 0.4507042253521127\n",
      "0.2 60 77 6 70 0.6103286384976526\n",
      "0.3 87 50 10 66 0.7183098591549296\n",
      "0.4 106 31 27 49 0.7276995305164319\n",
      "0.5 119 18 34 42 0.755868544600939\n",
      "0.6 125 12 40 36 0.755868544600939\n",
      "0.65 129 8 46 30 0.7464788732394366\n",
      "0.8 135 2 75 1 0.6384976525821596\n"
     ]
    }
   ],
   "source": [
    "# Target reducing False Negatives... Make it 0\n",
    "df2 = pd.DataFrame([],  columns =  [\"Probability\", \"True Negatives\", \"False Positives\", \"False Negatives\", \"True Positives\"])\n",
    "prob_values = [0.1, 0.2, 0.3, 0.4, 0.5, 0.6, 0.65, 0.8]\n",
    "for prob_value in prob_values:\n",
    "    y_my_pred = [ 0 if p < prob_value else 1 for n,p in y_prob_pred ]\n",
    "    tn, fp, fn, tp = confusion_matrix(y_test, y_my_pred).ravel()\n",
    "    df2.loc[-1] = [prob_value, tn, fp, fn, tp]\n",
    "    df2.index = df2.index + 1\n",
    "    df2 = df2.sort_index()\n",
    "    print(prob_value, tn, fp, fn, tp, (tn + tp)/(tn + tp + fn + fp))"
   ]
  },
  {
   "cell_type": "code",
   "execution_count": 64,
   "metadata": {},
   "outputs": [
    {
     "data": {
      "text/html": [
       "<div>\n",
       "<style scoped>\n",
       "    .dataframe tbody tr th:only-of-type {\n",
       "        vertical-align: middle;\n",
       "    }\n",
       "\n",
       "    .dataframe tbody tr th {\n",
       "        vertical-align: top;\n",
       "    }\n",
       "\n",
       "    .dataframe thead th {\n",
       "        text-align: right;\n",
       "    }\n",
       "</style>\n",
       "<table border=\"1\" class=\"dataframe\">\n",
       "  <thead>\n",
       "    <tr style=\"text-align: right;\">\n",
       "      <th></th>\n",
       "      <th>Probability</th>\n",
       "      <th>True Negatives</th>\n",
       "      <th>False Positives</th>\n",
       "      <th>False Negatives</th>\n",
       "      <th>True Positives</th>\n",
       "    </tr>\n",
       "  </thead>\n",
       "  <tbody>\n",
       "    <tr>\n",
       "      <th>0</th>\n",
       "      <td>0.80</td>\n",
       "      <td>135.0</td>\n",
       "      <td>2.0</td>\n",
       "      <td>75.0</td>\n",
       "      <td>1.0</td>\n",
       "    </tr>\n",
       "    <tr>\n",
       "      <th>1</th>\n",
       "      <td>0.65</td>\n",
       "      <td>129.0</td>\n",
       "      <td>8.0</td>\n",
       "      <td>46.0</td>\n",
       "      <td>30.0</td>\n",
       "    </tr>\n",
       "    <tr>\n",
       "      <th>2</th>\n",
       "      <td>0.60</td>\n",
       "      <td>125.0</td>\n",
       "      <td>12.0</td>\n",
       "      <td>40.0</td>\n",
       "      <td>36.0</td>\n",
       "    </tr>\n",
       "    <tr>\n",
       "      <th>3</th>\n",
       "      <td>0.50</td>\n",
       "      <td>119.0</td>\n",
       "      <td>18.0</td>\n",
       "      <td>34.0</td>\n",
       "      <td>42.0</td>\n",
       "    </tr>\n",
       "    <tr>\n",
       "      <th>4</th>\n",
       "      <td>0.40</td>\n",
       "      <td>106.0</td>\n",
       "      <td>31.0</td>\n",
       "      <td>27.0</td>\n",
       "      <td>49.0</td>\n",
       "    </tr>\n",
       "    <tr>\n",
       "      <th>5</th>\n",
       "      <td>0.30</td>\n",
       "      <td>87.0</td>\n",
       "      <td>50.0</td>\n",
       "      <td>10.0</td>\n",
       "      <td>66.0</td>\n",
       "    </tr>\n",
       "    <tr>\n",
       "      <th>6</th>\n",
       "      <td>0.20</td>\n",
       "      <td>60.0</td>\n",
       "      <td>77.0</td>\n",
       "      <td>6.0</td>\n",
       "      <td>70.0</td>\n",
       "    </tr>\n",
       "    <tr>\n",
       "      <th>7</th>\n",
       "      <td>0.10</td>\n",
       "      <td>20.0</td>\n",
       "      <td>117.0</td>\n",
       "      <td>0.0</td>\n",
       "      <td>76.0</td>\n",
       "    </tr>\n",
       "  </tbody>\n",
       "</table>\n",
       "</div>"
      ],
      "text/plain": [
       "   Probability  True Negatives  False Positives  False Negatives  \\\n",
       "0         0.80           135.0              2.0             75.0   \n",
       "1         0.65           129.0              8.0             46.0   \n",
       "2         0.60           125.0             12.0             40.0   \n",
       "3         0.50           119.0             18.0             34.0   \n",
       "4         0.40           106.0             31.0             27.0   \n",
       "5         0.30            87.0             50.0             10.0   \n",
       "6         0.20            60.0             77.0              6.0   \n",
       "7         0.10            20.0            117.0              0.0   \n",
       "\n",
       "   True Positives  \n",
       "0             1.0  \n",
       "1            30.0  \n",
       "2            36.0  \n",
       "3            42.0  \n",
       "4            49.0  \n",
       "5            66.0  \n",
       "6            70.0  \n",
       "7            76.0  "
      ]
     },
     "execution_count": 64,
     "metadata": {},
     "output_type": "execute_result"
    }
   ],
   "source": [
    "df2"
   ]
  }
 ],
 "metadata": {
  "kernelspec": {
   "display_name": "Python 3",
   "language": "python",
   "name": "python3"
  },
  "language_info": {
   "codemirror_mode": {
    "name": "ipython",
    "version": 3
   },
   "file_extension": ".py",
   "mimetype": "text/x-python",
   "name": "python",
   "nbconvert_exporter": "python",
   "pygments_lexer": "ipython3",
   "version": "3.6.5"
  },
  "varInspector": {
   "cols": {
    "lenName": 16,
    "lenType": 16,
    "lenVar": 40
   },
   "kernels_config": {
    "python": {
     "delete_cmd_postfix": "",
     "delete_cmd_prefix": "del ",
     "library": "var_list.py",
     "varRefreshCmd": "print(var_dic_list())"
    },
    "r": {
     "delete_cmd_postfix": ") ",
     "delete_cmd_prefix": "rm(",
     "library": "var_list.r",
     "varRefreshCmd": "cat(var_dic_list()) "
    }
   },
   "types_to_exclude": [
    "module",
    "function",
    "builtin_function_or_method",
    "instance",
    "_Feature"
   ],
   "window_display": false
  }
 },
 "nbformat": 4,
 "nbformat_minor": 2
}
