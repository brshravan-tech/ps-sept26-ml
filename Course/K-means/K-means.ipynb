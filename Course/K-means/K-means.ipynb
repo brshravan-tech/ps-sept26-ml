{
 "cells": [
  {
   "cell_type": "code",
   "execution_count": 1,
   "metadata": {},
   "outputs": [],
   "source": [
    "%matplotlib inline\n",
    "import numpy as np\n",
    "import pandas as pd\n",
    "import matplotlib.pyplot as plt"
   ]
  },
  {
   "cell_type": "markdown",
   "metadata": {},
   "source": [
    "- load the data from lat-lng.csv"
   ]
  },
  {
   "cell_type": "markdown",
   "metadata": {},
   "source": [
    "X axis -> Latitude\n",
    "Y axis -> Longitude\n",
    "4 Quadrants Split"
   ]
  },
  {
   "cell_type": "code",
   "execution_count": 8,
   "metadata": {},
   "outputs": [
    {
     "name": "stdout",
     "output_type": "stream",
     "text": [
      "1048575\n",
      "<class 'pandas.core.frame.DataFrame'>\n",
      "RangeIndex: 1048575 entries, 0 to 1048574\n",
      "Data columns (total 3 columns):\n",
      "userid    1048575 non-null int64\n",
      "lat       1048575 non-null float64\n",
      "lng       1048575 non-null float64\n",
      "dtypes: float64(2), int64(1)\n",
      "memory usage: 24.0 MB\n"
     ]
    }
   ],
   "source": [
    "df = pd.read_csv('with_user_id.csv')\n",
    "print(len(df))\n",
    "df.describe()\n",
    "df.info()"
   ]
  },
  {
   "cell_type": "markdown",
   "metadata": {},
   "source": [
    "- do you need to clean up the data?"
   ]
  },
  {
   "cell_type": "code",
   "execution_count": 10,
   "metadata": {},
   "outputs": [
    {
     "data": {
      "text/plain": [
       "(1048575, 932093)"
      ]
     },
     "execution_count": 10,
     "metadata": {},
     "output_type": "execute_result"
    }
   ],
   "source": [
    "# Find data for US regio\n",
    "df_us = df[(df['lat']>0) & (df['lng']<0)]\n",
    "len(df), len(df_us)"
   ]
  },
  {
   "cell_type": "code",
   "execution_count": 11,
   "metadata": {},
   "outputs": [
    {
     "data": {
      "text/plain": [
       "93209"
      ]
     },
     "execution_count": 11,
     "metadata": {},
     "output_type": "execute_result"
    }
   ],
   "source": [
    "# Instead of operating on 932093 number of rows, lets sample them to 10%\n",
    "df_us_samp = df_us.sample(frac=0.1, random_state=101)\n",
    "len(df_us_samp)"
   ]
  },
  {
   "cell_type": "markdown",
   "metadata": {},
   "source": [
    "- plot the graph for understanding data"
   ]
  },
  {
   "cell_type": "code",
   "execution_count": 12,
   "metadata": {},
   "outputs": [
    {
     "data": {
      "text/plain": [
       "<matplotlib.collections.PathCollection at 0x11087cba8>"
      ]
     },
     "execution_count": 12,
     "metadata": {},
     "output_type": "execute_result"
    },
    {
     "data": {
      "image/png": "[encoded data removed]",
      "text/plain": [
       "<Figure size 432x288 with 1 Axes>"
      ]
     },
     "metadata": {},
     "output_type": "display_data"
    }
   ],
   "source": [
    "plt.scatter(df_us_samp['lng'], df_us_samp['lat'])"
   ]
  },
  {
   "cell_type": "markdown",
   "metadata": {},
   "source": [
    "- create an object of KMeans by importing from sklearn.cluster"
   ]
  },
  {
   "cell_type": "code",
   "execution_count": 15,
   "metadata": {},
   "outputs": [
    {
     "name": "stdout",
     "output_type": "stream",
     "text": [
      "K-Means clustering\n",
      "\n",
      "    Read more in the :ref:`User Guide <k_means>`.\n",
      "\n",
      "    Parameters\n",
      "    ----------\n",
      "\n",
      "    n_clusters : int, optional, default: 8\n",
      "        The number of clusters to form as well as the number of\n",
      "        centroids to generate.\n",
      "\n",
      "    init : {'k-means++', 'random' or an ndarray}\n",
      "        Method for initialization, defaults to 'k-means++':\n",
      "\n",
      "        'k-means++' : selects initial cluster centers for k-mean\n",
      "        clustering in a smart way to speed up convergence. See section\n",
      "        Notes in k_init for more details.\n",
      "\n",
      "        'random': choose k observations (rows) at random from data for\n",
      "        the initial centroids.\n",
      "\n",
      "        If an ndarray is passed, it should be of shape (n_clusters, n_features)\n",
      "        and gives the initial centers.\n",
      "\n",
      "    n_init : int, default: 10\n",
      "        Number of time the k-means algorithm will be run with different\n",
      "        centroid seeds. The final results will be the best output of\n",
      "        n_init consecutive runs in terms of inertia.\n",
      "\n",
      "    max_iter : int, default: 300\n",
      "        Maximum number of iterations of the k-means algorithm for a\n",
      "        single run.\n",
      "\n",
      "    tol : float, default: 1e-4\n",
      "        Relative tolerance with regards to inertia to declare convergence\n",
      "\n",
      "    precompute_distances : {'auto', True, False}\n",
      "        Precompute distances (faster but takes more memory).\n",
      "\n",
      "        'auto' : do not precompute distances if n_samples * n_clusters > 12\n",
      "        million. This corresponds to about 100MB overhead per job using\n",
      "        double precision.\n",
      "\n",
      "        True : always precompute distances\n",
      "\n",
      "        False : never precompute distances\n",
      "\n",
      "    verbose : int, default 0\n",
      "        Verbosity mode.\n",
      "\n",
      "    random_state : int, RandomState instance or None, optional, default: None\n",
      "        If int, random_state is the seed used by the random number generator;\n",
      "        If RandomState instance, random_state is the random number generator;\n",
      "        If None, the random number generator is the RandomState instance used\n",
      "        by `np.random`.\n",
      "\n",
      "    copy_x : boolean, default True\n",
      "        When pre-computing distances it is more numerically accurate to center\n",
      "        the data first.  If copy_x is True, then the original data is not\n",
      "        modified.  If False, the original data is modified, and put back before\n",
      "        the function returns, but small numerical differences may be introduced\n",
      "        by subtracting and then adding the data mean.\n",
      "\n",
      "    n_jobs : int\n",
      "        The number of jobs to use for the computation. This works by computing\n",
      "        each of the n_init runs in parallel.\n",
      "\n",
      "        If -1 all CPUs are used. If 1 is given, no parallel computing code is\n",
      "        used at all, which is useful for debugging. For n_jobs below -1,\n",
      "        (n_cpus + 1 + n_jobs) are used. Thus for n_jobs = -2, all CPUs but one\n",
      "        are used.\n",
      "\n",
      "    algorithm : \"auto\", \"full\" or \"elkan\", default=\"auto\"\n",
      "        K-means algorithm to use. The classical EM-style algorithm is \"full\".\n",
      "        The \"elkan\" variation is more efficient by using the triangle\n",
      "        inequality, but currently doesn't support sparse data. \"auto\" chooses\n",
      "        \"elkan\" for dense data and \"full\" for sparse data.\n",
      "\n",
      "    Attributes\n",
      "    ----------\n",
      "    cluster_centers_ : array, [n_clusters, n_features]\n",
      "        Coordinates of cluster centers\n",
      "\n",
      "    labels_ :\n",
      "        Labels of each point\n",
      "\n",
      "    inertia_ : float\n",
      "        Sum of squared distances of samples to their closest cluster center.\n",
      "\n",
      "    Examples\n",
      "    --------\n",
      "\n",
      "    >>> from sklearn.cluster import KMeans\n",
      "    >>> import numpy as np\n",
      "    >>> X = np.array([[1, 2], [1, 4], [1, 0],\n",
      "    ...               [4, 2], [4, 4], [4, 0]])\n",
      "    >>> kmeans = KMeans(n_clusters=2, random_state=0).fit(X)\n",
      "    >>> kmeans.labels_\n",
      "    array([0, 0, 0, 1, 1, 1], dtype=int32)\n",
      "    >>> kmeans.predict([[0, 0], [4, 4]])\n",
      "    array([0, 1], dtype=int32)\n",
      "    >>> kmeans.cluster_centers_\n",
      "    array([[ 1.,  2.],\n",
      "           [ 4.,  2.]])\n",
      "\n",
      "    See also\n",
      "    --------\n",
      "\n",
      "    MiniBatchKMeans\n",
      "        Alternative online implementation that does incremental updates\n",
      "        of the centers positions using mini-batches.\n",
      "        For large scale learning (say n_samples > 10k) MiniBatchKMeans is\n",
      "        probably much faster than the default batch implementation.\n",
      "\n",
      "    Notes\n",
      "    ------\n",
      "    The k-means problem is solved using Lloyd's algorithm.\n",
      "\n",
      "    The average complexity is given by O(k n T), were n is the number of\n",
      "    samples and T is the number of iteration.\n",
      "\n",
      "    The worst case complexity is given by O(n^(k+2/p)) with\n",
      "    n = n_samples, p = n_features. (D. Arthur and S. Vassilvitskii,\n",
      "    'How slow is the k-means method?' SoCG2006)\n",
      "\n",
      "    In practice, the k-means algorithm is very fast (one of the fastest\n",
      "    clustering algorithms available), but it falls in local minima. That's why\n",
      "    it can be useful to restart it several times.\n",
      "\n",
      "    \n"
     ]
    }
   ],
   "source": [
    "from sklearn.cluster import KMeans\n",
    "print(KMeans.__doc__)"
   ]
  },
  {
   "cell_type": "code",
   "execution_count": 41,
   "metadata": {},
   "outputs": [],
   "source": [
    "kmeans = KMeans(n_clusters=10)"
   ]
  },
  {
   "cell_type": "markdown",
   "metadata": {},
   "source": [
    "- use fit of the kmeans object and pass in data"
   ]
  },
  {
   "cell_type": "code",
   "execution_count": 42,
   "metadata": {},
   "outputs": [
    {
     "data": {
      "text/plain": [
       "KMeans(algorithm='auto', copy_x=True, init='k-means++', max_iter=300,\n",
       "    n_clusters=10, n_init=10, n_jobs=1, precompute_distances='auto',\n",
       "    random_state=None, tol=0.0001, verbose=0)"
      ]
     },
     "execution_count": 42,
     "metadata": {},
     "output_type": "execute_result"
    }
   ],
   "source": [
    "kmeans.fit(df_us_samp[['lat','lng']])"
   ]
  },
  {
   "cell_type": "markdown",
   "metadata": {},
   "source": [
    "- check the cluster centers"
   ]
  },
  {
   "cell_type": "code",
   "execution_count": 36,
   "metadata": {},
   "outputs": [
    {
     "name": "stdout",
     "output_type": "stream",
     "text": [
      "93209\n",
      "[[  42.44409874  -83.6193844 ]\n",
      " [  37.69423088 -122.17340195]\n",
      " [  51.5549918    -0.48655733]\n",
      " [  39.80110873 -105.166705  ]\n",
      " [  21.28968866 -157.80697665]\n",
      " [  32.88726884  -96.97375494]\n",
      " [  40.82955852  -73.88849466]\n",
      " [  34.27978697  -84.08549127]\n",
      " [  48.02727485 -122.52430379]\n",
      " [  28.48196437  -81.73866076]\n",
      " [  33.33376066 -117.1793915 ]\n",
      " [  39.22806075  -94.84514411]\n",
      " [  18.05157775  -66.22825051]\n",
      " [  36.09172994 -115.14826755]\n",
      " [  30.26919251  -97.7845896 ]\n",
      " [  61.1172029  -149.53287002]\n",
      " [  38.83522224  -77.08683941]\n",
      " [  38.72221309   -7.35935451]\n",
      " [  44.89334092  -93.36135051]\n",
      " [  44.50475323  -74.82270288]\n",
      " [  30.3401093   -89.12701059]\n",
      " [  42.38959717  -71.11268366]\n",
      " [  33.45586222 -111.80356882]\n",
      " [  42.20285695  -87.83721526]\n",
      " [  35.78392348  -93.07607529]\n",
      " [  40.47625964  -81.59377504]\n",
      " [  21.99752367 -107.91702198]\n",
      " [  35.98939896  -78.77689929]\n",
      " [  35.64139524  -97.4483701 ]\n",
      " [  34.02911142 -118.26396214]\n",
      " [  64.10623623  -21.52705976]\n",
      " [  36.03792645  -86.77496484]\n",
      " [  52.2901077  -113.39287519]\n",
      " [  43.52484019  -79.68345662]\n",
      " [  40.80688156 -111.72925747]\n",
      " [  39.21880399  -87.88056215]\n",
      " [  34.33615563 -104.91641019]\n",
      " [  26.02900606  -80.40702455]\n",
      " [  32.07055201  -94.70592167]\n",
      " [  19.439181    -99.21015957]\n",
      " [  54.21829299   -2.83639993]\n",
      " [  33.80691968  -80.45444165]\n",
      " [  45.16190222 -122.72849743]\n",
      " [  39.46331198  -89.9087341 ]\n",
      " [  46.11399414 -117.70641539]\n",
      " [  39.87024431  -75.3748004 ]\n",
      " [  34.03233885  -88.58766413]\n",
      " [  29.93629791  -95.50485851]\n",
      " [  27.09998451  -98.30507042]\n",
      " [  39.3681286   -85.34761672]]\n",
      "[[  42.44409874  -83.6193844 ]\n",
      " [  37.69423088 -122.17340195]\n",
      " [  51.5549918    -0.48655733]\n",
      " [  39.80110873 -105.166705  ]\n",
      " [  21.28968866 -157.80697665]\n",
      " [  32.88726884  -96.97375494]\n",
      " [  40.82955852  -73.88849466]\n",
      " [  34.27978697  -84.08549127]\n",
      " [  48.02727485 -122.52430379]\n",
      " [  28.48196437  -81.73866076]\n",
      " [  33.33376066 -117.1793915 ]\n",
      " [  39.22806075  -94.84514411]\n",
      " [  18.05157775  -66.22825051]\n",
      " [  36.09172994 -115.14826755]\n",
      " [  30.26919251  -97.7845896 ]\n",
      " [  61.1172029  -149.53287002]\n",
      " [  38.83522224  -77.08683941]\n",
      " [  38.72221309   -7.35935451]\n",
      " [  44.89334092  -93.36135051]\n",
      " [  44.50475323  -74.82270288]\n",
      " [  30.3401093   -89.12701059]\n",
      " [  42.38959717  -71.11268366]\n",
      " [  33.45586222 -111.80356882]\n",
      " [  42.20285695  -87.83721526]\n",
      " [  35.78392348  -93.07607529]\n",
      " [  40.47625964  -81.59377504]\n",
      " [  21.99752367 -107.91702198]\n",
      " [  35.98939896  -78.77689929]\n",
      " [  35.64139524  -97.4483701 ]\n",
      " [  34.02911142 -118.26396214]\n",
      " [  64.10623623  -21.52705976]\n",
      " [  36.03792645  -86.77496484]\n",
      " [  52.2901077  -113.39287519]\n",
      " [  43.52484019  -79.68345662]\n",
      " [  40.80688156 -111.72925747]\n",
      " [  39.21880399  -87.88056215]\n",
      " [  34.33615563 -104.91641019]\n",
      " [  26.02900606  -80.40702455]\n",
      " [  32.07055201  -94.70592167]\n",
      " [  19.439181    -99.21015957]\n",
      " [  54.21829299   -2.83639993]\n",
      " [  33.80691968  -80.45444165]\n",
      " [  45.16190222 -122.72849743]\n",
      " [  39.46331198  -89.9087341 ]\n",
      " [  46.11399414 -117.70641539]\n",
      " [  39.87024431  -75.3748004 ]\n",
      " [  34.03233885  -88.58766413]\n",
      " [  29.93629791  -95.50485851]\n",
      " [  27.09998451  -98.30507042]\n",
      " [  39.3681286   -85.34761672]]\n",
      "[42.44409874 37.69423088 51.5549918  39.80110873 21.28968866 32.88726884\n",
      " 40.82955852 34.27978697 48.02727485 28.48196437 33.33376066 39.22806075\n",
      " 18.05157775 36.09172994 30.26919251 61.1172029  38.83522224 38.72221309\n",
      " 44.89334092 44.50475323 30.3401093  42.38959717 33.45586222 42.20285695\n",
      " 35.78392348 40.47625964 21.99752367 35.98939896 35.64139524 34.02911142\n",
      " 64.10623623 36.03792645 52.2901077  43.52484019 40.80688156 39.21880399\n",
      " 34.33615563 26.02900606 32.07055201 19.439181   54.21829299 33.80691968\n",
      " 45.16190222 39.46331198 46.11399414 39.87024431 34.03233885 29.93629791\n",
      " 27.09998451 39.3681286 ]\n",
      "[ -83.6193844  -122.17340195   -0.48655733 -105.166705   -157.80697665\n",
      "  -96.97375494  -73.88849466  -84.08549127 -122.52430379  -81.73866076\n",
      " -117.1793915   -94.84514411  -66.22825051 -115.14826755  -97.7845896\n",
      " -149.53287002  -77.08683941   -7.35935451  -93.36135051  -74.82270288\n",
      "  -89.12701059  -71.11268366 -111.80356882  -87.83721526  -93.07607529\n",
      "  -81.59377504 -107.91702198  -78.77689929  -97.4483701  -118.26396214\n",
      "  -21.52705976  -86.77496484 -113.39287519  -79.68345662 -111.72925747\n",
      "  -87.88056215 -104.91641019  -80.40702455  -94.70592167  -99.21015957\n",
      "   -2.83639993  -80.45444165 -122.72849743  -89.9087341  -117.70641539\n",
      "  -75.3748004   -88.58766413  -95.50485851  -98.30507042  -85.34761672]\n"
     ]
    }
   ],
   "source": [
    "print(len(kmeans.labels_))\n",
    "print(kmeans.cluster_centers_)\n",
    "print(kmeans.cluster_centers_[:])\n",
    "print(kmeans.cluster_centers_[:,0])\n",
    "print(kmeans.cluster_centers_[:,1])"
   ]
  },
  {
   "cell_type": "code",
   "execution_count": 22,
   "metadata": {},
   "outputs": [
    {
     "name": "stdout",
     "output_type": "stream",
     "text": [
      "42.444098742095065 -83.6193844021655\n",
      "37.694230875089225 -122.17340194887399\n",
      "51.554991802878654 -0.4865573314459368\n",
      "39.80110873243931 -105.1667050008289\n",
      "21.28968866035076 -157.80697665215078\n",
      "32.88726883759327 -96.97375493987064\n",
      "40.82955851754525 -73.88849466487368\n",
      "34.279786969006494 -84.08549126644249\n",
      "48.027274854149205 -122.52430378605453\n",
      "28.481964368417476 -81.73866076181815\n",
      "33.33376066178144 -117.17939150484031\n",
      "39.22806074508954 -94.8451441148639\n",
      "18.051577754624272 -66.2282505081503\n",
      "36.09172994402954 -115.1482675467827\n",
      "30.269192506760334 -97.78458960262064\n",
      "61.1172029021875 -149.53287002343748\n",
      "38.83522224216682 -77.08683941007531\n",
      "38.72221309143498 -7.359354514990969\n",
      "44.89334091836136 -93.36135051056687\n",
      "44.50475322798291 -74.82270288266666\n",
      "30.34010929622287 -89.12701058863965\n",
      "42.38959716892974 -71.11268366016533\n",
      "33.455862215930466 -111.80356881860938\n",
      "42.20285694996012 -87.83721525852762\n",
      "35.78392347881335 -93.07607528918417\n",
      "40.47625963544765 -81.59377504034902\n",
      "21.99752367083334 -107.91702198333334\n",
      "35.98939895630607 -78.77689928817941\n",
      "35.641395243215435 -97.44837009542873\n",
      "34.02911141834621 -118.26396213893415\n",
      "64.10623623416667 -21.527059761666663\n",
      "36.03792645134522 -86.77496483959482\n",
      "52.29010770042373 -113.39287519067797\n",
      "43.52484019322393 -79.68345662247104\n",
      "40.80688156081218 -111.72925747258881\n",
      "39.21880398525548 -87.8805621479562\n",
      "34.336155631204484 -104.91641019019607\n",
      "26.029006061530502 -80.40702455178905\n",
      "32.07055201335511 -94.70592166906319\n",
      "19.43918099625 -99.21015957205357\n",
      "54.21829299496552 -2.8363999291131705\n",
      "33.80691967530511 -80.45444165366126\n",
      "45.16190222182234 -122.7284974332574\n",
      "39.46331198130666 -89.90873410282667\n",
      "46.113994141 -117.70641539291667\n",
      "39.87024431447626 -75.3748004003212\n",
      "34.03233885374817 -88.58766413358711\n",
      "29.93629790612751 -95.50485851226175\n",
      "27.099984514542257 -98.30507041795775\n",
      "39.36812859751376 -85.34761672334862\n"
     ]
    }
   ],
   "source": [
    "for lat, lng in kmeans.cluster_centers_:\n",
    "    print (lat, lng)"
   ]
  },
  {
   "cell_type": "code",
   "execution_count": 26,
   "metadata": {},
   "outputs": [
    {
     "data": {
      "text/plain": [
       "<matplotlib.collections.PathCollection at 0x127866198>"
      ]
     },
     "execution_count": 26,
     "metadata": {},
     "output_type": "execute_result"
    },
    {
     "data": {
      "image/png": "[encoded data removed]",
      "text/plain": [
       "<Figure size 432x288 with 1 Axes>"
      ]
     },
     "metadata": {},
     "output_type": "display_data"
    }
   ],
   "source": [
    "plt.scatter(df_us_samp['lng'], df_us_samp['lat'])\n",
    "plt.scatter(kmeans.cluster_centers_[:,1],kmeans.cluster_centers_[:,0], color='red')"
   ]
  },
  {
   "cell_type": "code",
   "execution_count": 43,
   "metadata": {},
   "outputs": [
    {
     "data": {
      "text/plain": [
       "<matplotlib.collections.PathCollection at 0x127c7db38>"
      ]
     },
     "execution_count": 43,
     "metadata": {},
     "output_type": "execute_result"
    },
    {
     "data": {
      "image/png": "[encoded data removed]",
      "text/plain": [
       "<Figure size 432x288 with 1 Axes>"
      ]
     },
     "metadata": {},
     "output_type": "display_data"
    }
   ],
   "source": [
    "plt.scatter(df_us_samp['lng'], df_us_samp['lat'], c=kmeans.labels_, cmap='rainbow')\n",
    "#plt.scatter(kmeans.cluster_centers_[:,1],kmeans.cluster_centers_[:,0], c=kmeans.labels_, cmap='rainbow')"
   ]
  },
  {
   "cell_type": "markdown",
   "metadata": {},
   "source": [
    "- plot these cluster centers\n",
    "- plt.scatter(df['lat'], df['lng'], c=kmeans.labels_, cmap='rainbow')"
   ]
  },
  {
   "cell_type": "code",
   "execution_count": 46,
   "metadata": {},
   "outputs": [],
   "source": [
    "inertia=[]\n",
    "for k in range(1,200,50):\n",
    "    kmeans = KMeans(n_clusters=k)\n",
    "    kmeans.fit(df_us_samp[['lat','lng']])\n",
    "    inertia.append(kmeans.inertia_)"
   ]
  },
  {
   "cell_type": "code",
   "execution_count": 47,
   "metadata": {},
   "outputs": [
    {
     "data": {
      "text/plain": [
       "[62869902.733040385,\n",
       " 60169.753081241404,\n",
       " 22132.748745811237,\n",
       " 11187.234521648952]"
      ]
     },
     "execution_count": 47,
     "metadata": {},
     "output_type": "execute_result"
    }
   ],
   "source": [
    "inertia"
   ]
  },
  {
   "cell_type": "code",
   "execution_count": null,
   "metadata": {},
   "outputs": [],
   "source": [
    "inertia=[]\n",
    "for k in range(1,2000,20):\n",
    "    kmeans = KMeans(n_clusters=k)\n",
    "    kmeans.fit(df_us_samp[['lat','lng']])\n",
    "    inertia.append(kmeans.inertia_)"
   ]
  }
 ],
 "metadata": {
  "kernelspec": {
   "display_name": "Python 3",
   "language": "python",
   "name": "python3"
  },
  "language_info": {
   "codemirror_mode": {
    "name": "ipython",
    "version": 3
   },
   "file_extension": ".py",
   "mimetype": "text/x-python",
   "name": "python",
   "nbconvert_exporter": "python",
   "pygments_lexer": "ipython3",
   "version": "3.6.5"
  },
  "varInspector": {
   "cols": {
    "lenName": 16,
    "lenType": 16,
    "lenVar": 40
   },
   "kernels_config": {
    "python": {
     "delete_cmd_postfix": "",
     "delete_cmd_prefix": "del ",
     "library": "var_list.py",
     "varRefreshCmd": "print(var_dic_list())"
    },
    "r": {
     "delete_cmd_postfix": ") ",
     "delete_cmd_prefix": "rm(",
     "library": "var_list.r",
     "varRefreshCmd": "cat(var_dic_list()) "
    }
   },
   "types_to_exclude": [
    "module",
    "function",
    "builtin_function_or_method",
    "instance",
    "_Feature"
   ],
   "window_display": false
  }
 },
 "nbformat": 4,
 "nbformat_minor": 2
}
