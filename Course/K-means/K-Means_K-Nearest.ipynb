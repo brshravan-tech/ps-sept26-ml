{
 "cells": [
  {
   "cell_type": "code",
   "execution_count": 1,
   "metadata": {},
   "outputs": [],
   "source": [
    "%matplotlib inline\n",
    "import numpy as np\n",
    "import pandas as pd\n",
    "import matplotlib.pyplot as plt"
   ]
  },
  {
   "cell_type": "code",
   "execution_count": 2,
   "metadata": {},
   "outputs": [],
   "source": [
    "df = pd.read_csv('with_user_id.csv')"
   ]
  },
  {
   "cell_type": "code",
   "execution_count": 4,
   "metadata": {},
   "outputs": [],
   "source": [
    "# Find data for US regio\n",
    "df_us = df[(df['lat']>0) & (df['lng']<0)]"
   ]
  },
  {
   "cell_type": "code",
   "execution_count": 5,
   "metadata": {},
   "outputs": [],
   "source": [
    "# Instead of operating on 932093 number of rows, lets sample them to 10%\n",
    "df_us_samp = df_us.sample(frac=0.1, random_state=101)"
   ]
  },
  {
   "cell_type": "code",
   "execution_count": 6,
   "metadata": {},
   "outputs": [
    {
     "data": {
      "text/plain": [
       "<matplotlib.collections.PathCollection at 0x10886a6d8>"
      ]
     },
     "execution_count": 6,
     "metadata": {},
     "output_type": "execute_result"
    },
    {
     "data": {
      "image/png": "[encoded data removed]",
      "text/plain": [
       "<Figure size 432x288 with 1 Axes>"
      ]
     },
     "metadata": {},
     "output_type": "display_data"
    }
   ],
   "source": [
    "plt.scatter(df_us_samp['lng'], df_us_samp['lat'])"
   ]
  },
  {
   "cell_type": "code",
   "execution_count": 7,
   "metadata": {},
   "outputs": [
    {
     "data": {
      "text/plain": [
       "KMeans(algorithm='auto', copy_x=True, init='k-means++', max_iter=300,\n",
       "    n_clusters=50, n_init=10, n_jobs=1, precompute_distances='auto',\n",
       "    random_state=None, tol=0.0001, verbose=0)"
      ]
     },
     "execution_count": 7,
     "metadata": {},
     "output_type": "execute_result"
    }
   ],
   "source": [
    "from sklearn.cluster import KMeans\n",
    "kmeans = KMeans(n_clusters=50)\n",
    "kmeans.fit(df_us_samp[['lat','lng']])"
   ]
  },
  {
   "cell_type": "code",
   "execution_count": 8,
   "metadata": {},
   "outputs": [
    {
     "data": {
      "text/plain": [
       "<matplotlib.collections.PathCollection at 0x10a3f19b0>"
      ]
     },
     "execution_count": 8,
     "metadata": {},
     "output_type": "execute_result"
    },
    {
     "data": {
      "image/png": "[encoded data removed]",
      "text/plain": [
       "<Figure size 432x288 with 1 Axes>"
      ]
     },
     "metadata": {},
     "output_type": "display_data"
    }
   ],
   "source": [
    "plt.scatter(df_us_samp['lng'], df_us_samp['lat'])\n",
    "plt.scatter(kmeans.cluster_centers_[:,1],kmeans.cluster_centers_[:,0], color='red')"
   ]
  },
  {
   "cell_type": "code",
   "execution_count": 9,
   "metadata": {},
   "outputs": [],
   "source": [
    "df_us_samp['center']=kmeans.labels_"
   ]
  },
  {
   "cell_type": "code",
   "execution_count": 22,
   "metadata": {},
   "outputs": [],
   "source": [
    "df_us_samp.to_csv('with_user_id_labels.csv')"
   ]
  },
  {
   "cell_type": "code",
   "execution_count": 10,
   "metadata": {},
   "outputs": [
    {
     "data": {
      "text/html": [
       "<div>\n",
       "<style scoped>\n",
       "    .dataframe tbody tr th:only-of-type {\n",
       "        vertical-align: middle;\n",
       "    }\n",
       "\n",
       "    .dataframe tbody tr th {\n",
       "        vertical-align: top;\n",
       "    }\n",
       "\n",
       "    .dataframe thead th {\n",
       "        text-align: right;\n",
       "    }\n",
       "</style>\n",
       "<table border=\"1\" class=\"dataframe\">\n",
       "  <thead>\n",
       "    <tr style=\"text-align: right;\">\n",
       "      <th></th>\n",
       "      <th>userid</th>\n",
       "      <th>lat</th>\n",
       "      <th>lng</th>\n",
       "      <th>center</th>\n",
       "    </tr>\n",
       "  </thead>\n",
       "  <tbody>\n",
       "    <tr>\n",
       "      <th>958713</th>\n",
       "      <td>4466</td>\n",
       "      <td>38.952334</td>\n",
       "      <td>-77.447948</td>\n",
       "      <td>20</td>\n",
       "    </tr>\n",
       "    <tr>\n",
       "      <th>444404</th>\n",
       "      <td>1544</td>\n",
       "      <td>39.763549</td>\n",
       "      <td>-86.331929</td>\n",
       "      <td>34</td>\n",
       "    </tr>\n",
       "    <tr>\n",
       "      <th>763759</th>\n",
       "      <td>3252</td>\n",
       "      <td>42.051870</td>\n",
       "      <td>-70.185600</td>\n",
       "      <td>26</td>\n",
       "    </tr>\n",
       "    <tr>\n",
       "      <th>23305</th>\n",
       "      <td>112</td>\n",
       "      <td>30.255986</td>\n",
       "      <td>-97.746928</td>\n",
       "      <td>49</td>\n",
       "    </tr>\n",
       "    <tr>\n",
       "      <th>969760</th>\n",
       "      <td>4496</td>\n",
       "      <td>28.596401</td>\n",
       "      <td>-81.308044</td>\n",
       "      <td>22</td>\n",
       "    </tr>\n",
       "  </tbody>\n",
       "</table>\n",
       "</div>"
      ],
      "text/plain": [
       "        userid        lat        lng  center\n",
       "958713    4466  38.952334 -77.447948      20\n",
       "444404    1544  39.763549 -86.331929      34\n",
       "763759    3252  42.051870 -70.185600      26\n",
       "23305      112  30.255986 -97.746928      49\n",
       "969760    4496  28.596401 -81.308044      22"
      ]
     },
     "execution_count": 10,
     "metadata": {},
     "output_type": "execute_result"
    }
   ],
   "source": [
    "df_us_samp.head()"
   ]
  },
  {
   "cell_type": "code",
   "execution_count": 11,
   "metadata": {},
   "outputs": [],
   "source": [
    "X = df_us_samp[['lat','lng']]\n",
    "y = df_us_samp['center']"
   ]
  },
  {
   "cell_type": "code",
   "execution_count": 12,
   "metadata": {},
   "outputs": [],
   "source": [
    "from sklearn.model_selection import train_test_split\n",
    "X_train, X_test, y_train, y_test = train_test_split(X, y, test_size=0.3, random_state=101)"
   ]
  },
  {
   "cell_type": "code",
   "execution_count": 14,
   "metadata": {},
   "outputs": [],
   "source": [
    "from sklearn.neighbors import KNeighborsClassifier\n",
    "knn = KNeighborsClassifier(n_neighbors=5)"
   ]
  },
  {
   "cell_type": "code",
   "execution_count": 15,
   "metadata": {},
   "outputs": [
    {
     "data": {
      "text/plain": [
       "KNeighborsClassifier(algorithm='auto', leaf_size=30, metric='minkowski',\n",
       "           metric_params=None, n_jobs=1, n_neighbors=5, p=2,\n",
       "           weights='uniform')"
      ]
     },
     "execution_count": 15,
     "metadata": {},
     "output_type": "execute_result"
    }
   ],
   "source": [
    "knn.fit(X_train, y_train)"
   ]
  },
  {
   "cell_type": "code",
   "execution_count": 17,
   "metadata": {},
   "outputs": [],
   "source": [
    "y_pred = knn.predict(X_test)"
   ]
  },
  {
   "cell_type": "code",
   "execution_count": 18,
   "metadata": {},
   "outputs": [
    {
     "data": {
      "text/plain": [
       "array([ 3,  6,  5, ...,  2,  3, 32], dtype=int32)"
      ]
     },
     "execution_count": 18,
     "metadata": {},
     "output_type": "execute_result"
    }
   ],
   "source": [
    "y_pred"
   ]
  },
  {
   "cell_type": "code",
   "execution_count": 19,
   "metadata": {},
   "outputs": [
    {
     "data": {
      "text/plain": [
       "0.9978900690197762"
      ]
     },
     "execution_count": 19,
     "metadata": {},
     "output_type": "execute_result"
    }
   ],
   "source": [
    "knn.score(X_test, y_test)"
   ]
  },
  {
   "cell_type": "code",
   "execution_count": 20,
   "metadata": {},
   "outputs": [
    {
     "data": {
      "text/plain": [
       "array([14], dtype=int32)"
      ]
     },
     "execution_count": 20,
     "metadata": {},
     "output_type": "execute_result"
    }
   ],
   "source": [
    "knn.predict([[41.877741,-92.645557]])"
   ]
  },
  {
   "cell_type": "code",
   "execution_count": 21,
   "metadata": {},
   "outputs": [
    {
     "data": {
      "text/plain": [
       "array([   0,    9,   10,   28,   49,   51,   64,   65,   71,   73,   75,\n",
       "         81,   87,  107,  110,  127,  133,  135,  142,  192,  193,  194,\n",
       "        195,  204,  232,  237,  248,  256,  257,  259,  263,  273,  282,\n",
       "        286,  289,  296,  299,  300,  310,  317,  323,  339,  343,  346,\n",
       "        351,  356,  362,  363,  368,  374,  390,  391,  392,  400,  406,\n",
       "        420,  421,  423,  428,  443,  447,  448,  451,  461,  479,  480,\n",
       "        482,  485,  488,  497,  500,  503,  512,  522,  534,  542,  543,\n",
       "        544,  553,  558,  564,  565,  566,  569,  570,  576,  583,  591,\n",
       "        603,  648, 1018, 1116, 1120, 1282, 1670, 1703, 1732, 1773, 1801,\n",
       "       1861, 1883, 1962, 1999, 2236, 2348, 2395, 2408, 2467, 2468, 2521,\n",
       "       2540, 2552, 2594, 2604, 2615, 2624, 2633, 2638, 2644, 2650, 2652,\n",
       "       2662, 2680, 2685, 2703, 2733, 2737, 2738, 2743, 2758, 2760, 2763,\n",
       "       2779, 2783, 2789, 2808, 2812, 2826, 2836, 2847, 2853, 2889, 2898,\n",
       "       2934, 2937, 2960, 2963, 3008, 3014, 3075, 3087, 3089, 3118, 3129,\n",
       "       3139, 3142, 3144, 3150, 3157, 3178, 3191, 3210, 3226, 3236, 3245,\n",
       "       3336, 3349, 3364, 3376, 3383, 3392, 3395, 3396, 3443, 3507, 3522,\n",
       "       3623, 3651, 3675, 3814, 3842, 4088, 4190, 4191, 4194, 4195, 4196,\n",
       "       4197, 4198, 4199, 4200, 4202, 4203, 4205, 4206, 4207, 4208, 4209,\n",
       "       4210, 4211, 4212, 4270, 4273, 4276, 4279, 4281, 4329, 4616, 4617,\n",
       "       4618, 4619, 4648])"
      ]
     },
     "execution_count": 21,
     "metadata": {},
     "output_type": "execute_result"
    }
   ],
   "source": [
    "np.unique(df_us_samp[df_us_samp['center']==14]['userid'])"
   ]
  }
 ],
 "metadata": {
  "kernelspec": {
   "display_name": "Python 3",
   "language": "python",
   "name": "python3"
  },
  "language_info": {
   "codemirror_mode": {
    "name": "ipython",
    "version": 3
   },
   "file_extension": ".py",
   "mimetype": "text/x-python",
   "name": "python",
   "nbconvert_exporter": "python",
   "pygments_lexer": "ipython3",
   "version": "3.6.5"
  }
 },
 "nbformat": 4,
 "nbformat_minor": 2
}
