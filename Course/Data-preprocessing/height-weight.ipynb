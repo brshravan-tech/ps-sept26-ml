{
 "cells": [
  {
   "cell_type": "code",
   "execution_count": 2,
   "metadata": {},
   "outputs": [],
   "source": [
    "import numpy as np\n",
    "import matplotlib.pyplot as plt\n",
    "import pandas as pd\n",
    "%matplotlib inline"
   ]
  },
  {
   "cell_type": "markdown",
   "metadata": {},
   "source": [
    "- load dataset height-weight.csv\n",
    "- understand the data using describe"
   ]
  },
  {
   "cell_type": "code",
   "execution_count": 6,
   "metadata": {},
   "outputs": [
    {
     "data": {
      "text/html": [
       "<div>\n",
       "<style scoped>\n",
       "    .dataframe tbody tr th:only-of-type {\n",
       "        vertical-align: middle;\n",
       "    }\n",
       "\n",
       "    .dataframe tbody tr th {\n",
       "        vertical-align: top;\n",
       "    }\n",
       "\n",
       "    .dataframe thead th {\n",
       "        text-align: right;\n",
       "    }\n",
       "</style>\n",
       "<table border=\"1\" class=\"dataframe\">\n",
       "  <thead>\n",
       "    <tr style=\"text-align: right;\">\n",
       "      <th></th>\n",
       "      <th>Index</th>\n",
       "      <th>Height(Inches)</th>\n",
       "      <th>Weight(Pounds)</th>\n",
       "    </tr>\n",
       "  </thead>\n",
       "  <tbody>\n",
       "    <tr>\n",
       "      <th>0</th>\n",
       "      <td>1</td>\n",
       "      <td>65.78</td>\n",
       "      <td>112.99</td>\n",
       "    </tr>\n",
       "    <tr>\n",
       "      <th>1</th>\n",
       "      <td>2</td>\n",
       "      <td>71.52</td>\n",
       "      <td>136.49</td>\n",
       "    </tr>\n",
       "    <tr>\n",
       "      <th>2</th>\n",
       "      <td>3</td>\n",
       "      <td>69.40</td>\n",
       "      <td>153.03</td>\n",
       "    </tr>\n",
       "    <tr>\n",
       "      <th>3</th>\n",
       "      <td>4</td>\n",
       "      <td>68.22</td>\n",
       "      <td>142.34</td>\n",
       "    </tr>\n",
       "    <tr>\n",
       "      <th>4</th>\n",
       "      <td>5</td>\n",
       "      <td>67.79</td>\n",
       "      <td>144.30</td>\n",
       "    </tr>\n",
       "    <tr>\n",
       "      <th>5</th>\n",
       "      <td>6</td>\n",
       "      <td>68.70</td>\n",
       "      <td>123.30</td>\n",
       "    </tr>\n",
       "    <tr>\n",
       "      <th>6</th>\n",
       "      <td>7</td>\n",
       "      <td>69.80</td>\n",
       "      <td>141.49</td>\n",
       "    </tr>\n",
       "    <tr>\n",
       "      <th>7</th>\n",
       "      <td>8</td>\n",
       "      <td>70.01</td>\n",
       "      <td>136.46</td>\n",
       "    </tr>\n",
       "    <tr>\n",
       "      <th>8</th>\n",
       "      <td>9</td>\n",
       "      <td>67.90</td>\n",
       "      <td>112.37</td>\n",
       "    </tr>\n",
       "    <tr>\n",
       "      <th>9</th>\n",
       "      <td>10</td>\n",
       "      <td>66.78</td>\n",
       "      <td>120.67</td>\n",
       "    </tr>\n",
       "    <tr>\n",
       "      <th>10</th>\n",
       "      <td>11</td>\n",
       "      <td>66.49</td>\n",
       "      <td>127.45</td>\n",
       "    </tr>\n",
       "    <tr>\n",
       "      <th>11</th>\n",
       "      <td>12</td>\n",
       "      <td>67.62</td>\n",
       "      <td>114.14</td>\n",
       "    </tr>\n",
       "    <tr>\n",
       "      <th>12</th>\n",
       "      <td>13</td>\n",
       "      <td>68.30</td>\n",
       "      <td>125.61</td>\n",
       "    </tr>\n",
       "    <tr>\n",
       "      <th>13</th>\n",
       "      <td>14</td>\n",
       "      <td>67.12</td>\n",
       "      <td>122.46</td>\n",
       "    </tr>\n",
       "    <tr>\n",
       "      <th>14</th>\n",
       "      <td>15</td>\n",
       "      <td>68.28</td>\n",
       "      <td>116.09</td>\n",
       "    </tr>\n",
       "    <tr>\n",
       "      <th>15</th>\n",
       "      <td>16</td>\n",
       "      <td>71.09</td>\n",
       "      <td>140.00</td>\n",
       "    </tr>\n",
       "    <tr>\n",
       "      <th>16</th>\n",
       "      <td>17</td>\n",
       "      <td>66.46</td>\n",
       "      <td>129.50</td>\n",
       "    </tr>\n",
       "    <tr>\n",
       "      <th>17</th>\n",
       "      <td>18</td>\n",
       "      <td>68.65</td>\n",
       "      <td>142.97</td>\n",
       "    </tr>\n",
       "    <tr>\n",
       "      <th>18</th>\n",
       "      <td>19</td>\n",
       "      <td>71.23</td>\n",
       "      <td>137.90</td>\n",
       "    </tr>\n",
       "    <tr>\n",
       "      <th>19</th>\n",
       "      <td>20</td>\n",
       "      <td>67.13</td>\n",
       "      <td>124.04</td>\n",
       "    </tr>\n",
       "    <tr>\n",
       "      <th>20</th>\n",
       "      <td>21</td>\n",
       "      <td>67.83</td>\n",
       "      <td>141.28</td>\n",
       "    </tr>\n",
       "    <tr>\n",
       "      <th>21</th>\n",
       "      <td>22</td>\n",
       "      <td>68.88</td>\n",
       "      <td>143.54</td>\n",
       "    </tr>\n",
       "    <tr>\n",
       "      <th>22</th>\n",
       "      <td>23</td>\n",
       "      <td>63.48</td>\n",
       "      <td>97.90</td>\n",
       "    </tr>\n",
       "    <tr>\n",
       "      <th>23</th>\n",
       "      <td>24</td>\n",
       "      <td>68.42</td>\n",
       "      <td>129.50</td>\n",
       "    </tr>\n",
       "    <tr>\n",
       "      <th>24</th>\n",
       "      <td>25</td>\n",
       "      <td>67.63</td>\n",
       "      <td>141.85</td>\n",
       "    </tr>\n",
       "    <tr>\n",
       "      <th>25</th>\n",
       "      <td>26</td>\n",
       "      <td>67.21</td>\n",
       "      <td>129.72</td>\n",
       "    </tr>\n",
       "    <tr>\n",
       "      <th>26</th>\n",
       "      <td>27</td>\n",
       "      <td>70.84</td>\n",
       "      <td>142.42</td>\n",
       "    </tr>\n",
       "    <tr>\n",
       "      <th>27</th>\n",
       "      <td>28</td>\n",
       "      <td>67.49</td>\n",
       "      <td>131.55</td>\n",
       "    </tr>\n",
       "    <tr>\n",
       "      <th>28</th>\n",
       "      <td>29</td>\n",
       "      <td>66.53</td>\n",
       "      <td>108.33</td>\n",
       "    </tr>\n",
       "    <tr>\n",
       "      <th>29</th>\n",
       "      <td>30</td>\n",
       "      <td>65.44</td>\n",
       "      <td>113.89</td>\n",
       "    </tr>\n",
       "    <tr>\n",
       "      <th>...</th>\n",
       "      <td>...</td>\n",
       "      <td>...</td>\n",
       "      <td>...</td>\n",
       "    </tr>\n",
       "    <tr>\n",
       "      <th>170</th>\n",
       "      <td>171</td>\n",
       "      <td>69.43</td>\n",
       "      <td>122.61</td>\n",
       "    </tr>\n",
       "    <tr>\n",
       "      <th>171</th>\n",
       "      <td>172</td>\n",
       "      <td>67.97</td>\n",
       "      <td>124.21</td>\n",
       "    </tr>\n",
       "    <tr>\n",
       "      <th>172</th>\n",
       "      <td>173</td>\n",
       "      <td>67.76</td>\n",
       "      <td>124.65</td>\n",
       "    </tr>\n",
       "    <tr>\n",
       "      <th>173</th>\n",
       "      <td>174</td>\n",
       "      <td>65.28</td>\n",
       "      <td>119.52</td>\n",
       "    </tr>\n",
       "    <tr>\n",
       "      <th>174</th>\n",
       "      <td>175</td>\n",
       "      <td>73.83</td>\n",
       "      <td>139.30</td>\n",
       "    </tr>\n",
       "    <tr>\n",
       "      <th>175</th>\n",
       "      <td>176</td>\n",
       "      <td>66.81</td>\n",
       "      <td>104.83</td>\n",
       "    </tr>\n",
       "    <tr>\n",
       "      <th>176</th>\n",
       "      <td>177</td>\n",
       "      <td>66.89</td>\n",
       "      <td>123.04</td>\n",
       "    </tr>\n",
       "    <tr>\n",
       "      <th>177</th>\n",
       "      <td>178</td>\n",
       "      <td>65.74</td>\n",
       "      <td>118.89</td>\n",
       "    </tr>\n",
       "    <tr>\n",
       "      <th>178</th>\n",
       "      <td>179</td>\n",
       "      <td>65.98</td>\n",
       "      <td>121.49</td>\n",
       "    </tr>\n",
       "    <tr>\n",
       "      <th>179</th>\n",
       "      <td>180</td>\n",
       "      <td>66.58</td>\n",
       "      <td>119.25</td>\n",
       "    </tr>\n",
       "    <tr>\n",
       "      <th>180</th>\n",
       "      <td>181</td>\n",
       "      <td>67.11</td>\n",
       "      <td>135.02</td>\n",
       "    </tr>\n",
       "    <tr>\n",
       "      <th>181</th>\n",
       "      <td>182</td>\n",
       "      <td>65.87</td>\n",
       "      <td>116.23</td>\n",
       "    </tr>\n",
       "    <tr>\n",
       "      <th>182</th>\n",
       "      <td>183</td>\n",
       "      <td>66.78</td>\n",
       "      <td>109.17</td>\n",
       "    </tr>\n",
       "    <tr>\n",
       "      <th>183</th>\n",
       "      <td>184</td>\n",
       "      <td>68.74</td>\n",
       "      <td>124.22</td>\n",
       "    </tr>\n",
       "    <tr>\n",
       "      <th>184</th>\n",
       "      <td>185</td>\n",
       "      <td>66.23</td>\n",
       "      <td>141.16</td>\n",
       "    </tr>\n",
       "    <tr>\n",
       "      <th>185</th>\n",
       "      <td>186</td>\n",
       "      <td>65.96</td>\n",
       "      <td>129.15</td>\n",
       "    </tr>\n",
       "    <tr>\n",
       "      <th>186</th>\n",
       "      <td>187</td>\n",
       "      <td>68.58</td>\n",
       "      <td>127.87</td>\n",
       "    </tr>\n",
       "    <tr>\n",
       "      <th>187</th>\n",
       "      <td>188</td>\n",
       "      <td>66.59</td>\n",
       "      <td>120.92</td>\n",
       "    </tr>\n",
       "    <tr>\n",
       "      <th>188</th>\n",
       "      <td>189</td>\n",
       "      <td>66.97</td>\n",
       "      <td>127.65</td>\n",
       "    </tr>\n",
       "    <tr>\n",
       "      <th>189</th>\n",
       "      <td>190</td>\n",
       "      <td>68.08</td>\n",
       "      <td>101.47</td>\n",
       "    </tr>\n",
       "    <tr>\n",
       "      <th>190</th>\n",
       "      <td>191</td>\n",
       "      <td>70.19</td>\n",
       "      <td>144.99</td>\n",
       "    </tr>\n",
       "    <tr>\n",
       "      <th>191</th>\n",
       "      <td>192</td>\n",
       "      <td>65.52</td>\n",
       "      <td>110.95</td>\n",
       "    </tr>\n",
       "    <tr>\n",
       "      <th>192</th>\n",
       "      <td>193</td>\n",
       "      <td>67.46</td>\n",
       "      <td>132.86</td>\n",
       "    </tr>\n",
       "    <tr>\n",
       "      <th>193</th>\n",
       "      <td>194</td>\n",
       "      <td>67.41</td>\n",
       "      <td>146.34</td>\n",
       "    </tr>\n",
       "    <tr>\n",
       "      <th>194</th>\n",
       "      <td>195</td>\n",
       "      <td>69.66</td>\n",
       "      <td>145.59</td>\n",
       "    </tr>\n",
       "    <tr>\n",
       "      <th>195</th>\n",
       "      <td>196</td>\n",
       "      <td>65.80</td>\n",
       "      <td>120.84</td>\n",
       "    </tr>\n",
       "    <tr>\n",
       "      <th>196</th>\n",
       "      <td>197</td>\n",
       "      <td>66.11</td>\n",
       "      <td>115.78</td>\n",
       "    </tr>\n",
       "    <tr>\n",
       "      <th>197</th>\n",
       "      <td>198</td>\n",
       "      <td>68.24</td>\n",
       "      <td>128.30</td>\n",
       "    </tr>\n",
       "    <tr>\n",
       "      <th>198</th>\n",
       "      <td>199</td>\n",
       "      <td>68.02</td>\n",
       "      <td>127.47</td>\n",
       "    </tr>\n",
       "    <tr>\n",
       "      <th>199</th>\n",
       "      <td>200</td>\n",
       "      <td>71.39</td>\n",
       "      <td>127.88</td>\n",
       "    </tr>\n",
       "  </tbody>\n",
       "</table>\n",
       "<p>200 rows × 3 columns</p>\n",
       "</div>"
      ],
      "text/plain": [
       "     Index  Height(Inches)  Weight(Pounds)\n",
       "0        1           65.78          112.99\n",
       "1        2           71.52          136.49\n",
       "2        3           69.40          153.03\n",
       "3        4           68.22          142.34\n",
       "4        5           67.79          144.30\n",
       "5        6           68.70          123.30\n",
       "6        7           69.80          141.49\n",
       "7        8           70.01          136.46\n",
       "8        9           67.90          112.37\n",
       "9       10           66.78          120.67\n",
       "10      11           66.49          127.45\n",
       "11      12           67.62          114.14\n",
       "12      13           68.30          125.61\n",
       "13      14           67.12          122.46\n",
       "14      15           68.28          116.09\n",
       "15      16           71.09          140.00\n",
       "16      17           66.46          129.50\n",
       "17      18           68.65          142.97\n",
       "18      19           71.23          137.90\n",
       "19      20           67.13          124.04\n",
       "20      21           67.83          141.28\n",
       "21      22           68.88          143.54\n",
       "22      23           63.48           97.90\n",
       "23      24           68.42          129.50\n",
       "24      25           67.63          141.85\n",
       "25      26           67.21          129.72\n",
       "26      27           70.84          142.42\n",
       "27      28           67.49          131.55\n",
       "28      29           66.53          108.33\n",
       "29      30           65.44          113.89\n",
       "..     ...             ...             ...\n",
       "170    171           69.43          122.61\n",
       "171    172           67.97          124.21\n",
       "172    173           67.76          124.65\n",
       "173    174           65.28          119.52\n",
       "174    175           73.83          139.30\n",
       "175    176           66.81          104.83\n",
       "176    177           66.89          123.04\n",
       "177    178           65.74          118.89\n",
       "178    179           65.98          121.49\n",
       "179    180           66.58          119.25\n",
       "180    181           67.11          135.02\n",
       "181    182           65.87          116.23\n",
       "182    183           66.78          109.17\n",
       "183    184           68.74          124.22\n",
       "184    185           66.23          141.16\n",
       "185    186           65.96          129.15\n",
       "186    187           68.58          127.87\n",
       "187    188           66.59          120.92\n",
       "188    189           66.97          127.65\n",
       "189    190           68.08          101.47\n",
       "190    191           70.19          144.99\n",
       "191    192           65.52          110.95\n",
       "192    193           67.46          132.86\n",
       "193    194           67.41          146.34\n",
       "194    195           69.66          145.59\n",
       "195    196           65.80          120.84\n",
       "196    197           66.11          115.78\n",
       "197    198           68.24          128.30\n",
       "198    199           68.02          127.47\n",
       "199    200           71.39          127.88\n",
       "\n",
       "[200 rows x 3 columns]"
      ]
     },
     "execution_count": 6,
     "metadata": {},
     "output_type": "execute_result"
    }
   ],
   "source": [
    "df = pd.read_csv('height-weight.csv')\n",
    "df"
   ]
  },
  {
   "cell_type": "code",
   "execution_count": 7,
   "metadata": {},
   "outputs": [
    {
     "data": {
      "text/html": [
       "<div>\n",
       "<style scoped>\n",
       "    .dataframe tbody tr th:only-of-type {\n",
       "        vertical-align: middle;\n",
       "    }\n",
       "\n",
       "    .dataframe tbody tr th {\n",
       "        vertical-align: top;\n",
       "    }\n",
       "\n",
       "    .dataframe thead th {\n",
       "        text-align: right;\n",
       "    }\n",
       "</style>\n",
       "<table border=\"1\" class=\"dataframe\">\n",
       "  <thead>\n",
       "    <tr style=\"text-align: right;\">\n",
       "      <th></th>\n",
       "      <th>Index</th>\n",
       "      <th>Height(Inches)</th>\n",
       "      <th>Weight(Pounds)</th>\n",
       "    </tr>\n",
       "  </thead>\n",
       "  <tbody>\n",
       "    <tr>\n",
       "      <th>count</th>\n",
       "      <td>200.000000</td>\n",
       "      <td>200.000000</td>\n",
       "      <td>200.000000</td>\n",
       "    </tr>\n",
       "    <tr>\n",
       "      <th>mean</th>\n",
       "      <td>100.500000</td>\n",
       "      <td>67.949800</td>\n",
       "      <td>127.221950</td>\n",
       "    </tr>\n",
       "    <tr>\n",
       "      <th>std</th>\n",
       "      <td>57.879185</td>\n",
       "      <td>1.940363</td>\n",
       "      <td>11.960959</td>\n",
       "    </tr>\n",
       "    <tr>\n",
       "      <th>min</th>\n",
       "      <td>1.000000</td>\n",
       "      <td>63.430000</td>\n",
       "      <td>97.900000</td>\n",
       "    </tr>\n",
       "    <tr>\n",
       "      <th>25%</th>\n",
       "      <td>50.750000</td>\n",
       "      <td>66.522500</td>\n",
       "      <td>119.895000</td>\n",
       "    </tr>\n",
       "    <tr>\n",
       "      <th>50%</th>\n",
       "      <td>100.500000</td>\n",
       "      <td>67.935000</td>\n",
       "      <td>127.875000</td>\n",
       "    </tr>\n",
       "    <tr>\n",
       "      <th>75%</th>\n",
       "      <td>150.250000</td>\n",
       "      <td>69.202500</td>\n",
       "      <td>136.097500</td>\n",
       "    </tr>\n",
       "    <tr>\n",
       "      <th>max</th>\n",
       "      <td>200.000000</td>\n",
       "      <td>73.900000</td>\n",
       "      <td>158.960000</td>\n",
       "    </tr>\n",
       "  </tbody>\n",
       "</table>\n",
       "</div>"
      ],
      "text/plain": [
       "            Index  Height(Inches)  Weight(Pounds)\n",
       "count  200.000000      200.000000      200.000000\n",
       "mean   100.500000       67.949800      127.221950\n",
       "std     57.879185        1.940363       11.960959\n",
       "min      1.000000       63.430000       97.900000\n",
       "25%     50.750000       66.522500      119.895000\n",
       "50%    100.500000       67.935000      127.875000\n",
       "75%    150.250000       69.202500      136.097500\n",
       "max    200.000000       73.900000      158.960000"
      ]
     },
     "execution_count": 7,
     "metadata": {},
     "output_type": "execute_result"
    }
   ],
   "source": [
    "df.describe()"
   ]
  },
  {
   "cell_type": "code",
   "execution_count": 24,
   "metadata": {},
   "outputs": [
    {
     "data": {
      "text/plain": [
       "Index             100.50000\n",
       "Height(Inches)     67.94980\n",
       "Weight(Pounds)    127.22195\n",
       "Name: mean, dtype: float64"
      ]
     },
     "execution_count": 24,
     "metadata": {},
     "output_type": "execute_result"
    }
   ],
   "source": [
    "df.describe().loc['mean']"
   ]
  },
  {
   "cell_type": "code",
   "execution_count": 8,
   "metadata": {},
   "outputs": [
    {
     "data": {
      "text/plain": [
       "Index(['Index', 'Height(Inches)', 'Weight(Pounds)'], dtype='object')"
      ]
     },
     "execution_count": 8,
     "metadata": {},
     "output_type": "execute_result"
    }
   ],
   "source": [
    "df.columns"
   ]
  },
  {
   "cell_type": "code",
   "execution_count": 12,
   "metadata": {},
   "outputs": [
    {
     "data": {
      "text/plain": [
       "count    200.000000\n",
       "mean      67.949800\n",
       "std        1.940363\n",
       "min       63.430000\n",
       "25%       66.522500\n",
       "50%       67.935000\n",
       "75%       69.202500\n",
       "max       73.900000\n",
       "Name: Height(Inches), dtype: float64"
      ]
     },
     "execution_count": 12,
     "metadata": {},
     "output_type": "execute_result"
    }
   ],
   "source": [
    "df.describe()['Height(Inches)']"
   ]
  },
  {
   "cell_type": "code",
   "execution_count": 14,
   "metadata": {},
   "outputs": [
    {
     "data": {
      "text/plain": [
       "Index             100.50000\n",
       "Height(Inches)     67.94980\n",
       "Weight(Pounds)    127.22195\n",
       "dtype: float64"
      ]
     },
     "execution_count": 14,
     "metadata": {},
     "output_type": "execute_result"
    }
   ],
   "source": [
    "df.mean()"
   ]
  },
  {
   "cell_type": "code",
   "execution_count": 19,
   "metadata": {},
   "outputs": [
    {
     "data": {
      "text/plain": [
       "100.5"
      ]
     },
     "execution_count": 19,
     "metadata": {},
     "output_type": "execute_result"
    }
   ],
   "source": [
    "df.mean()['Index']"
   ]
  },
  {
   "cell_type": "code",
   "execution_count": 22,
   "metadata": {},
   "outputs": [
    {
     "data": {
      "text/plain": [
       "67.94979999999998"
      ]
     },
     "execution_count": 22,
     "metadata": {},
     "output_type": "execute_result"
    }
   ],
   "source": [
    "df['Height(Inches)'].mean()"
   ]
  },
  {
   "cell_type": "code",
   "execution_count": 23,
   "metadata": {},
   "outputs": [
    {
     "data": {
      "text/plain": [
       "1.9403625936857456"
      ]
     },
     "execution_count": 23,
     "metadata": {},
     "output_type": "execute_result"
    }
   ],
   "source": [
    "df['Height(Inches)'].std()"
   ]
  },
  {
   "cell_type": "code",
   "execution_count": 39,
   "metadata": {},
   "outputs": [
    {
     "data": {
      "text/plain": [
       "(67.94979999999998, 1.9355056083618047)"
      ]
     },
     "execution_count": 39,
     "metadata": {},
     "output_type": "execute_result"
    }
   ],
   "source": [
    "mn, std"
   ]
  },
  {
   "cell_type": "code",
   "execution_count": 6,
   "metadata": {},
   "outputs": [
    {
     "data": {
      "text/plain": [
       "0      65.78\n",
       "1      71.52\n",
       "2      69.40\n",
       "3      68.22\n",
       "4      67.79\n",
       "5      68.70\n",
       "6      69.80\n",
       "7      70.01\n",
       "8      67.90\n",
       "9      66.78\n",
       "10     66.49\n",
       "11     67.62\n",
       "12     68.30\n",
       "13     67.12\n",
       "14     68.28\n",
       "15     71.09\n",
       "16     66.46\n",
       "17     68.65\n",
       "18     71.23\n",
       "19     67.13\n",
       "20     67.83\n",
       "21     68.88\n",
       "22     63.48\n",
       "23     68.42\n",
       "24     67.63\n",
       "25     67.21\n",
       "26     70.84\n",
       "27     67.49\n",
       "28     66.53\n",
       "29     65.44\n",
       "       ...  \n",
       "170    69.43\n",
       "171    67.97\n",
       "172    67.76\n",
       "173    65.28\n",
       "174    73.83\n",
       "175    66.81\n",
       "176    66.89\n",
       "177    65.74\n",
       "178    65.98\n",
       "179    66.58\n",
       "180    67.11\n",
       "181    65.87\n",
       "182    66.78\n",
       "183    68.74\n",
       "184    66.23\n",
       "185    65.96\n",
       "186    68.58\n",
       "187    66.59\n",
       "188    66.97\n",
       "189    68.08\n",
       "190    70.19\n",
       "191    65.52\n",
       "192    67.46\n",
       "193    67.41\n",
       "194    69.66\n",
       "195    65.80\n",
       "196    66.11\n",
       "197    68.24\n",
       "198    68.02\n",
       "199    71.39\n",
       "Name: Height(Inches), Length: 200, dtype: float64"
      ]
     },
     "execution_count": 6,
     "metadata": {},
     "output_type": "execute_result"
    }
   ],
   "source": [
    "dataset['Height(Inches)']"
   ]
  },
  {
   "cell_type": "markdown",
   "metadata": {},
   "source": [
    "- figure out the mean of heights"
   ]
  },
  {
   "cell_type": "code",
   "execution_count": null,
   "metadata": {},
   "outputs": [],
   "source": []
  },
  {
   "cell_type": "markdown",
   "metadata": {},
   "source": [
    "- figure out the std of heights"
   ]
  },
  {
   "cell_type": "code",
   "execution_count": null,
   "metadata": {},
   "outputs": [],
   "source": []
  },
  {
   "cell_type": "markdown",
   "metadata": {},
   "source": [
    "- plot a histogram of heights\n",
    "- draw verticle lines for mean 1 std, 2 std and 3 std"
   ]
  },
  {
   "cell_type": "code",
   "execution_count": 26,
   "metadata": {},
   "outputs": [
    {
     "data": {
      "text/plain": [
       "[<matplotlib.lines.Line2D at 0x11b4749b0>]"
      ]
     },
     "execution_count": 26,
     "metadata": {},
     "output_type": "execute_result"
    },
    {
     "data": {
      "image/png": "[encoded data removed]",
      "text/plain": [
       "<Figure size 432x288 with 1 Axes>"
      ]
     },
     "metadata": {},
     "output_type": "display_data"
    }
   ],
   "source": [
    "plt.plot(df['Index'], df['Height(Inches)'])"
   ]
  },
  {
   "cell_type": "code",
   "execution_count": 31,
   "metadata": {},
   "outputs": [
    {
     "data": {
      "text/plain": [
       "<matplotlib.collections.PathCollection at 0x11b693c18>"
      ]
     },
     "execution_count": 31,
     "metadata": {},
     "output_type": "execute_result"
    },
    {
     "data": {
      "image/png": "[encoded data removed]",
      "text/plain": [
       "<Figure size 432x288 with 1 Axes>"
      ]
     },
     "metadata": {},
     "output_type": "display_data"
    }
   ],
   "source": [
    "plt.scatter(df['Index'],df['Height(Inches)'])"
   ]
  },
  {
   "cell_type": "code",
   "execution_count": 32,
   "metadata": {},
   "outputs": [
    {
     "data": {
      "text/plain": [
       "<matplotlib.collections.PathCollection at 0x11b74cc88>"
      ]
     },
     "execution_count": 32,
     "metadata": {},
     "output_type": "execute_result"
    },
    {
     "data": {
      "image/png": "[encoded data removed]",
      "text/plain": [
       "<Figure size 432x288 with 1 Axes>"
      ]
     },
     "metadata": {},
     "output_type": "display_data"
    }
   ],
   "source": [
    "plt.scatter(df['Index'],df['Height(Inches)'],color='red')"
   ]
  },
  {
   "cell_type": "code",
   "execution_count": 33,
   "metadata": {},
   "outputs": [
    {
     "data": {
      "text/plain": [
       "<matplotlib.collections.PathCollection at 0x11b861c18>"
      ]
     },
     "execution_count": 33,
     "metadata": {},
     "output_type": "execute_result"
    },
    {
     "data": {
      "image/png": "[encoded data removed]",
      "text/plain": [
       "<Figure size 432x288 with 1 Axes>"
      ]
     },
     "metadata": {},
     "output_type": "display_data"
    }
   ],
   "source": [
    "plt.scatter(df['Index'],df['Height(Inches)'],color='#00FF00')"
   ]
  },
  {
   "cell_type": "code",
   "execution_count": 28,
   "metadata": {},
   "outputs": [
    {
     "data": {
      "text/plain": [
       "<matplotlib.lines.Line2D at 0x11b588f28>"
      ]
     },
     "execution_count": 28,
     "metadata": {},
     "output_type": "execute_result"
    }
   ],
   "source": [
    "plt.Line2D(df['Index'],df['Height(Inches)'])"
   ]
  },
  {
   "cell_type": "code",
   "execution_count": 34,
   "metadata": {},
   "outputs": [
    {
     "data": {
      "text/plain": [
       "(array([ 8., 14., 30., 32., 47., 30., 23., 12.,  2.,  2.]),\n",
       " array([63.43 , 64.477, 65.524, 66.571, 67.618, 68.665, 69.712, 70.759,\n",
       "        71.806, 72.853, 73.9  ]),\n",
       " <a list of 10 Patch objects>)"
      ]
     },
     "execution_count": 34,
     "metadata": {},
     "output_type": "execute_result"
    },
    {
     "data": {
      "image/png": "[encoded data removed]",
      "text/plain": [
       "<Figure size 432x288 with 1 Axes>"
      ]
     },
     "metadata": {},
     "output_type": "display_data"
    }
   ],
   "source": [
    "plt.hist(df['Height(Inches)'])"
   ]
  },
  {
   "cell_type": "code",
   "execution_count": 38,
   "metadata": {},
   "outputs": [
    {
     "data": {
      "text/plain": [
       "(array([ 3.,  5.,  2., 12., 15., 15., 14., 18., 24., 23., 17., 13., 17.,\n",
       "         6.,  8.,  4.,  1.,  1.,  0.,  2.]),\n",
       " array([63.43  , 63.9535, 64.477 , 65.0005, 65.524 , 66.0475, 66.571 ,\n",
       "        67.0945, 67.618 , 68.1415, 68.665 , 69.1885, 69.712 , 70.2355,\n",
       "        70.759 , 71.2825, 71.806 , 72.3295, 72.853 , 73.3765, 73.9   ]),\n",
       " <a list of 20 Patch objects>)"
      ]
     },
     "execution_count": 38,
     "metadata": {},
     "output_type": "execute_result"
    },
    {
     "data": {
      "image/png": "[encoded data removed]",
      "text/plain": [
       "<Figure size 432x288 with 1 Axes>"
      ]
     },
     "metadata": {},
     "output_type": "display_data"
    }
   ],
   "source": [
    "plt.hist(df['Height(Inches)'], bins=20)"
   ]
  },
  {
   "cell_type": "code",
   "execution_count": 49,
   "metadata": {},
   "outputs": [
    {
     "data": {
      "text/plain": [
       "(array([ 3.,  5.,  2., 12., 15., 15., 14., 18., 24., 23., 17., 13., 17.,\n",
       "         6.,  8.,  4.,  1.,  1.,  0.,  2.]),\n",
       " array([63.43  , 63.9535, 64.477 , 65.0005, 65.524 , 66.0475, 66.571 ,\n",
       "        67.0945, 67.618 , 68.1415, 68.665 , 69.1885, 69.712 , 70.2355,\n",
       "        70.759 , 71.2825, 71.806 , 72.3295, 72.853 , 73.3765, 73.9   ]),\n",
       " <a list of 20 Patch objects>)"
      ]
     },
     "execution_count": 49,
     "metadata": {},
     "output_type": "execute_result"
    },
    {
     "data": {
      "image/png": "[encoded data removed]",
      "text/plain": [
       "<Figure size 432x288 with 1 Axes>"
      ]
     },
     "metadata": {},
     "output_type": "display_data"
    }
   ],
   "source": [
    "plt.hist(df['Height(Inches)'], bins=20, label='Test1', rwidth=10, orientation='horizontal', histtype='bar')"
   ]
  },
  {
   "cell_type": "code",
   "execution_count": 52,
   "metadata": {},
   "outputs": [
    {
     "data": {
      "text/plain": [
       "(array([ 3.,  5.,  2., 12., 15., 15., 14., 18., 24., 23., 17., 13., 17.,\n",
       "         6.,  8.,  4.,  1.,  1.,  0.,  2.]),\n",
       " array([63.43  , 63.9535, 64.477 , 65.0005, 65.524 , 66.0475, 66.571 ,\n",
       "        67.0945, 67.618 , 68.1415, 68.665 , 69.1885, 69.712 , 70.2355,\n",
       "        70.759 , 71.2825, 71.806 , 72.3295, 72.853 , 73.3765, 73.9   ]),\n",
       " <a list of 1 Patch objects>)"
      ]
     },
     "execution_count": 52,
     "metadata": {},
     "output_type": "execute_result"
    },
    {
     "data": {
      "image/png": "[encoded data removed]",
      "text/plain": [
       "<Figure size 432x288 with 1 Axes>"
      ]
     },
     "metadata": {},
     "output_type": "display_data"
    }
   ],
   "source": [
    "plt.hist(df['Height(Inches)'], bins=20, label='Test1', rwidth=10, histtype='step')"
   ]
  },
  {
   "cell_type": "code",
   "execution_count": 55,
   "metadata": {},
   "outputs": [
    {
     "data": {
      "text/plain": [
       "(array([ 3.,  5.,  2., 12., 15., 15., 14., 18., 24., 23., 17., 13., 17.,\n",
       "         6.,  8.,  4.,  1.,  1.,  0.,  2.]),\n",
       " array([63.43  , 63.9535, 64.477 , 65.0005, 65.524 , 66.0475, 66.571 ,\n",
       "        67.0945, 67.618 , 68.1415, 68.665 , 69.1885, 69.712 , 70.2355,\n",
       "        70.759 , 71.2825, 71.806 , 72.3295, 72.853 , 73.3765, 73.9   ]),\n",
       " <a list of 1 Patch objects>)"
      ]
     },
     "execution_count": 55,
     "metadata": {},
     "output_type": "execute_result"
    },
    {
     "data": {
      "image/png": "[encoded data removed]",
      "text/plain": [
       "<Figure size 432x288 with 1 Axes>"
      ]
     },
     "metadata": {},
     "output_type": "display_data"
    }
   ],
   "source": [
    "plt.hist(df['Height(Inches)'], bins=20, label='Test1', rwidth=10, histtype='stepfilled')"
   ]
  },
  {
   "cell_type": "code",
   "execution_count": 57,
   "metadata": {},
   "outputs": [
    {
     "data": {
      "text/plain": [
       "(67.94979999999998, 1.9403625936857456)"
      ]
     },
     "execution_count": 57,
     "metadata": {},
     "output_type": "execute_result"
    }
   ],
   "source": [
    "mn = df['Height(Inches)'].mean()\n",
    "std = df['Height(Inches)'].std()\n",
    "mn, std"
   ]
  },
  {
   "cell_type": "code",
   "execution_count": 69,
   "metadata": {},
   "outputs": [
    {
     "data": {
      "text/plain": [
       "<matplotlib.lines.Line2D at 0x121cd3a90>"
      ]
     },
     "execution_count": 69,
     "metadata": {},
     "output_type": "execute_result"
    },
    {
     "data": {
      "image/png": "[encoded data removed]",
      "text/plain": [
       "<Figure size 432x288 with 1 Axes>"
      ]
     },
     "metadata": {},
     "output_type": "display_data"
    }
   ],
   "source": [
    "plt.hist(df['Height(Inches)'], bins=20)\n",
    "plt.axvline(mn, color='red')\n",
    "plt.axvline(mn - std, color='green')\n",
    "plt.axvline(mn + std, color='black')\n",
    "plt.axvline(mn - (std*2), color='yellow')\n",
    "plt.axvline(mn + (std*2), color='orange')"
   ]
  },
  {
   "cell_type": "code",
   "execution_count": 93,
   "metadata": {},
   "outputs": [],
   "source": [
    "std1 = df[(df['Height(Inches)'] > (mn - (2*std))) & (df['Height(Inches)'] < (mn + (2*std)))]"
   ]
  },
  {
   "cell_type": "code",
   "execution_count": 94,
   "metadata": {},
   "outputs": [],
   "source": [
    "std2 = df[(df['Height(Inches)'] > (mn - (std))) & (df['Height(Inches)'] < (mn + (std)))]"
   ]
  },
  {
   "cell_type": "code",
   "execution_count": 95,
   "metadata": {},
   "outputs": [],
   "source": [
    "std3 = df[(df['Height(Inches)'] > (mn - (1.2*std))) & (df['Height(Inches)'] < (mn + (1.2*std)))]"
   ]
  },
  {
   "cell_type": "code",
   "execution_count": 98,
   "metadata": {},
   "outputs": [
    {
     "ename": "TypeError",
     "evalue": "len() takes exactly one argument (3 given)",
     "output_type": "error",
     "traceback": [
      "\u001b[0;31m---------------------------------------------------------------------------\u001b[0m",
      "\u001b[0;31mTypeError\u001b[0m                                 Traceback (most recent call last)",
      "\u001b[0;32m<ipython-input-98-3921a95f0195>\u001b[0m in \u001b[0;36m<module>\u001b[0;34m()\u001b[0m\n\u001b[0;32m----> 1\u001b[0;31m \u001b[0mlen\u001b[0m\u001b[0;34m(\u001b[0m\u001b[0mstd1\u001b[0m\u001b[0;34m,\u001b[0m \u001b[0mstd2\u001b[0m\u001b[0;34m,\u001b[0m \u001b[0mstd3\u001b[0m\u001b[0;34m)\u001b[0m\u001b[0;34m\u001b[0m\u001b[0m\n\u001b[0m",
      "\u001b[0;31mTypeError\u001b[0m: len() takes exactly one argument (3 given)"
     ]
    }
   ],
   "source": [
    "std1, std2, std3"
   ]
  },
  {
   "cell_type": "code",
   "execution_count": 99,
   "metadata": {},
   "outputs": [
    {
     "data": {
      "text/plain": [
       "(192, 129, 158)"
      ]
     },
     "execution_count": 99,
     "metadata": {},
     "output_type": "execute_result"
    }
   ],
   "source": [
    "len(std1), len(std2), len(std3)"
   ]
  },
  {
   "cell_type": "code",
   "execution_count": 108,
   "metadata": {},
   "outputs": [
    {
     "data": {
      "text/plain": [
       "(0.96, 0.645, 0.79)"
      ]
     },
     "execution_count": 108,
     "metadata": {},
     "output_type": "execute_result"
    }
   ],
   "source": [
    "len(std1)/200, len(std2)/200, len(std3)/200"
   ]
  },
  {
   "cell_type": "code",
   "execution_count": 116,
   "metadata": {},
   "outputs": [
    {
     "data": {
      "text/plain": [
       "(0.96, 0.645, 0.79)"
      ]
     },
     "execution_count": 116,
     "metadata": {},
     "output_type": "execute_result"
    }
   ],
   "source": [
    "entries = df.size/len(df.columns)\n",
    "len(std1)/entries, len(std2)/entries, len(std3)/entries"
   ]
  }
 ],
 "metadata": {
  "kernelspec": {
   "display_name": "Python 3",
   "language": "python",
   "name": "python3"
  },
  "language_info": {
   "codemirror_mode": {
    "name": "ipython",
    "version": 3
   },
   "file_extension": ".py",
   "mimetype": "text/x-python",
   "name": "python",
   "nbconvert_exporter": "python",
   "pygments_lexer": "ipython3",
   "version": "3.6.5"
  },
  "varInspector": {
   "cols": {
    "lenName": 16,
    "lenType": 16,
    "lenVar": 40
   },
   "kernels_config": {
    "python": {
     "delete_cmd_postfix": "",
     "delete_cmd_prefix": "del ",
     "library": "var_list.py",
     "varRefreshCmd": "print(var_dic_list())"
    },
    "r": {
     "delete_cmd_postfix": ") ",
     "delete_cmd_prefix": "rm(",
     "library": "var_list.r",
     "varRefreshCmd": "cat(var_dic_list()) "
    }
   },
   "types_to_exclude": [
    "module",
    "function",
    "builtin_function_or_method",
    "instance",
    "_Feature"
   ],
   "window_display": false
  }
 },
 "nbformat": 4,
 "nbformat_minor": 2
}
